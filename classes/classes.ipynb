{
 "cells": [
  {
   "cell_type": "markdown",
   "metadata": {},
   "source": [
    "# Классы\n",
    "\n",
    "\n",
    "Объектно-ориентированное программирование (ООП) - один из ключевых подходов к проргаммированию. Программы представляются как набор объектов, каждый из которых - это представитель некоторого более общего типа (класса).\n",
    "\n",
    "Класс описывает свойства (атрибуты) и действия (методы) объекта, например, у кошки есть лапы (атрибут количество лап), цвет глаз, окрас, она может издавать звуки (мурлыкать) - это метод. Кошка как вид - это некоторая схема общая, которая актуальна для всех отдельных кошек (для кошки Принцессы, кота Васи и всех других).\n",
    "\n",
    "У некоторой конкретной кошки, например, кота Васи, будут все эти свойства, но могут быть и различия. Например, цвет глаз будет желтым, окрас - рыжим. А вот у Принцессы будут зеленые глаза и серый окрас.\n",
    "\n",
    "Вася, Принцесса - это экземпляры кошек, конкретные объекты, относящиеся к одному классу. \n",
    "\n",
    "Давайте опишем это на питоне.\n",
    "\n",
    "В метод ```__init__``` передаются параметры, которые мы задаем конкретному объекту и там они присваиваются. Двайте пока остановимся на цвете глаз и окрасе.\n",
    "\n",
    "```self``` означает этот объект. Это позволяет внутри метода обращаться к разным атрибутам объекта, например, внутри talk видеть цвет глаз. В этом примере это лишнее, но если бы кошки умели говорить, мы могли бы подставить имя, например, в ответ кошки.\n",
    "\n",
    "Классы обычно называются с большой буквы, а объекты-представители с маленькой."
   ]
  },
  {
   "cell_type": "code",
   "execution_count": 15,
   "metadata": {},
   "outputs": [],
   "source": [
    "class Cat:\n",
    "    \n",
    "    def __init__(self, eye_color, fur_color):\n",
    "        self.eye_color = eye_color\n",
    "        self.fur_color = fur_color\n",
    "        \n",
    "    def talk(self):\n",
    "        return \"Meow!\""
   ]
  },
  {
   "cell_type": "code",
   "execution_count": 16,
   "metadata": {},
   "outputs": [],
   "source": [
    "princess = Cat(eye_color=\"green\", fur_color=\"grey\")\n",
    "vasya = Cat(eye_color=\"yellow\", fur_color=\"red\")"
   ]
  },
  {
   "cell_type": "markdown",
   "metadata": {},
   "source": [
    "Попробуем вывести, что там в Принцессе. Пока ничего не получится, потому что, в отличие от обычных питоновских объектов, у нас нет определенного способа, как это выводить."
   ]
  },
  {
   "cell_type": "code",
   "execution_count": 17,
   "metadata": {},
   "outputs": [
    {
     "data": {
      "text/plain": [
       "<__main__.Cat at 0x7f2ca732b5b0>"
      ]
     },
     "execution_count": 17,
     "metadata": {},
     "output_type": "execute_result"
    }
   ],
   "source": [
    "princess"
   ]
  },
  {
   "cell_type": "markdown",
   "metadata": {},
   "source": [
    "Мы может попросить Принцессу издать звук (промяукать)"
   ]
  },
  {
   "cell_type": "code",
   "execution_count": 18,
   "metadata": {},
   "outputs": [
    {
     "data": {
      "text/plain": [
       "'Meow!'"
      ]
     },
     "execution_count": 18,
     "metadata": {},
     "output_type": "execute_result"
    }
   ],
   "source": [
    "princess.talk()"
   ]
  },
  {
   "cell_type": "markdown",
   "metadata": {},
   "source": [
    "Можем узнать цвет глаз или окрас "
   ]
  },
  {
   "cell_type": "code",
   "execution_count": 19,
   "metadata": {},
   "outputs": [
    {
     "name": "stdout",
     "output_type": "stream",
     "text": [
      "green\n",
      "grey\n"
     ]
    }
   ],
   "source": [
    "print(princess.eye_color)\n",
    "print(princess.fur_color)"
   ]
  },
  {
   "cell_type": "code",
   "execution_count": 20,
   "metadata": {},
   "outputs": [
    {
     "name": "stdout",
     "output_type": "stream",
     "text": [
      "yellow\n",
      "red\n"
     ]
    }
   ],
   "source": [
    "print(vasya.eye_color)\n",
    "print(vasya.fur_color)"
   ]
  },
  {
   "cell_type": "markdown",
   "metadata": {},
   "source": [
    "Можем увидеть тип объекта"
   ]
  },
  {
   "cell_type": "code",
   "execution_count": 21,
   "metadata": {},
   "outputs": [
    {
     "data": {
      "text/plain": [
       "__main__.Cat"
      ]
     },
     "execution_count": 21,
     "metadata": {},
     "output_type": "execute_result"
    }
   ],
   "source": [
    "type(princess)"
   ]
  },
  {
   "cell_type": "markdown",
   "metadata": {},
   "source": [
    "## Наследование\n",
    "\n",
    "Кошки и собаки довольно похожи, у них есть цвет глаз, может быть имя, они могут издавать звуки (по-разному). Мы может в целом описать животное, а потом просто уточнить те моменты, которые отличаются (например, в действиях).\n",
    "\n",
    "Чтобы показать, что методу не нужны разные атрибуты и прочие свойства, можно написать ```@staticmethod```\n",
    "\n",
    "Вы заметили, что init идет с подчеркиваниями, а talk без. Методы с подчеркиваниями - это специальные (магические) методы питона, которые описывают стандартные вещи, которые обычно проиходят с объектами (например, инициализация, то есть определение объекта, строковое представление, длина, сравнение с другим, равенство и прочие). Можно почитать [тут](https://www.tutorialsteacher.com/python/magic-methods-in-python)"
   ]
  },
  {
   "cell_type": "code",
   "execution_count": 22,
   "metadata": {},
   "outputs": [],
   "source": [
    "class Animal:\n",
    "    \n",
    "    def __init__(self, name, age, eye_color, fur_color):\n",
    "        self.name = name\n",
    "        self.age = age\n",
    "        self.eye_color = eye_color\n",
    "        self.fur_color = fur_color\n",
    "    \n",
    "    @staticmethod\n",
    "    def talk():\n",
    "        return \"...\"\n",
    "    \n",
    "    def birthday(self):\n",
    "        self.age += 1\n",
    "        return f\"{self.name} уже {self.age}!\"\n",
    "    \n",
    "    def __str__(self):\n",
    "        return f\"Имя {self.name}.\\nВозраст {self.age}.\\nГлаза: {self.eye_color}.\\nМех {self.fur_color}\""
   ]
  },
  {
   "cell_type": "markdown",
   "metadata": {},
   "source": [
    "Мы в целом представили, как выглядит животное для нас, теперь можем показать, что это кошка или собака. Для нас они отличаются только тем, что издают разные звуки. Мы можем после имени класса указать, что этот класс наследует свойства другого, то есть возьмет все, что у того есть и перезапишет то, что мы тут пропишем (talk)."
   ]
  },
  {
   "cell_type": "code",
   "execution_count": 24,
   "metadata": {},
   "outputs": [],
   "source": [
    "class Dog(Animal):\n",
    "    \n",
    "    @staticmethod\n",
    "    def talk():\n",
    "        return \"Гав!\"\n",
    "\n",
    "class Cat(Animal):\n",
    "    \n",
    "    @staticmethod\n",
    "    def talk():\n",
    "        return \"Мяу!\""
   ]
  },
  {
   "cell_type": "code",
   "execution_count": 30,
   "metadata": {},
   "outputs": [],
   "source": [
    "princess = Cat(\"Принцесса\", 3, \"зеленые\", \"серый\")\n",
    "vasya = Cat(\"Вася\", 5, \"желтые\", \"рыжий\")\n",
    "\n",
    "barbos = Dog(\"Барбос\", 4, \"черные\", \"черный\")"
   ]
  },
  {
   "cell_type": "code",
   "execution_count": 31,
   "metadata": {},
   "outputs": [
    {
     "name": "stdout",
     "output_type": "stream",
     "text": [
      "<class '__main__.Cat'>\n",
      "<class '__main__.Dog'>\n"
     ]
    }
   ],
   "source": [
    "print(type(vasya))\n",
    "print(type(barbos))"
   ]
  },
  {
   "cell_type": "code",
   "execution_count": 32,
   "metadata": {},
   "outputs": [
    {
     "data": {
      "text/plain": [
       "'Мяу!'"
      ]
     },
     "execution_count": 32,
     "metadata": {},
     "output_type": "execute_result"
    }
   ],
   "source": [
    "vasya.talk()"
   ]
  },
  {
   "cell_type": "code",
   "execution_count": 33,
   "metadata": {},
   "outputs": [
    {
     "data": {
      "text/plain": [
       "'Гав!'"
      ]
     },
     "execution_count": 33,
     "metadata": {},
     "output_type": "execute_result"
    }
   ],
   "source": [
    "barbos.talk()"
   ]
  },
  {
   "cell_type": "markdown",
   "metadata": {},
   "source": [
    "Убедимся, что методы Animal работают"
   ]
  },
  {
   "cell_type": "code",
   "execution_count": 34,
   "metadata": {},
   "outputs": [
    {
     "name": "stdout",
     "output_type": "stream",
     "text": [
      "5\n",
      "Вася уже 6!\n",
      "6\n"
     ]
    }
   ],
   "source": [
    "print(vasya.age)\n",
    "print(vasya.birthday())\n",
    "print(vasya.age)"
   ]
  },
  {
   "cell_type": "code",
   "execution_count": 35,
   "metadata": {},
   "outputs": [
    {
     "name": "stdout",
     "output_type": "stream",
     "text": [
      "4\n",
      "Барбос уже 5!\n",
      "5\n"
     ]
    }
   ],
   "source": [
    "print(barbos.age)\n",
    "print(barbos.birthday())\n",
    "print(barbos.age)"
   ]
  },
  {
   "cell_type": "code",
   "execution_count": 37,
   "metadata": {},
   "outputs": [
    {
     "name": "stdout",
     "output_type": "stream",
     "text": [
      "Имя Барбос.\n",
      "Возраст 5.\n",
      "Глаза: черные.\n",
      "Мех черный\n"
     ]
    }
   ],
   "source": [
    "print(barbos)"
   ]
  },
  {
   "cell_type": "code",
   "execution_count": 38,
   "metadata": {},
   "outputs": [
    {
     "data": {
      "text/plain": [
       "<__main__.Dog at 0x7f2ca7330b50>"
      ]
     },
     "execution_count": 38,
     "metadata": {},
     "output_type": "execute_result"
    }
   ],
   "source": [
    "barbos"
   ]
  },
  {
   "cell_type": "markdown",
   "metadata": {},
   "source": [
    "## Основные положения\n",
    "\n",
    "- **абстракция** - представление в виде абстрактной схемы (класса)\n",
    "- инкапсуляция - создание разного уроня доступа внутри класса (доступные все атрибуты или скрытые) - это уже следующий уровень\n",
    "- **наследование** - можем создать общую схему, а потом уточнять (животное - кот)\n",
    "- **полиморфизм** - можем использовать одинаковый интерфейс у разных объектов (например, получать длину объекта, или заставлять говорить: кто-то мяукает приэтом, а кто-то гавкает)"
   ]
  },
  {
   "cell_type": "markdown",
   "metadata": {},
   "source": [
    "## Flask\n",
    "\n",
    "Попробуем подключить базу данных к нашему приложению и сделать сайт про фильмы.\n",
    "\n",
    "**Как подключить базу к приложению**\n",
    "\n",
    "Мы должны импортировать фласк и использовать еще один специальный модуль flask-sqlalchemy, который позволяет работать с базой. Главное - это прописать путь к базе - там есть часть ```sqlite3:///```- это обозначение для того, что мы работает с таким типом базы, а дальше путь внутри проекта\n",
    "\n",
    "Пусть база лежит там же в папке"
   ]
  },
  {
   "cell_type": "code",
   "execution_count": null,
   "metadata": {},
   "outputs": [],
   "source": [
    "from flask import Flask\n",
    "from flask_sqlalchemy import SQLAlchemy\n",
    "\n",
    "app = Flask(__name__)\n",
    "app.config['SQLALCHEMY_DATABASE_URI'] = 'sqlite:///imdb_small_indexed.db'\n",
    "db = SQLAlchemy(app)"
   ]
  },
  {
   "cell_type": "markdown",
   "metadata": {},
   "source": [
    "**Как передать устройство своей базы?**\n",
    "\n",
    "Нам необходимо объяснить питону, где какие типы данных у нас лежат, для этого нам нужно описать каждую таблицу.\n",
    "\n",
    "Не будем пока углубляться в классы питона, просто делаем по образцу.\n",
    "\n",
    "Каждая таблица описывается отделно, с помощью ```__tablename__``` передается ее имя, а названия столбиков совпадают с названиями в нашей таблице. Еще используется специальная \"обертка\" для столбца, где можно прописать, какой это типа данных и если это первиный ключ, то на это указать"
   ]
  },
  {
   "cell_type": "code",
   "execution_count": null,
   "metadata": {},
   "outputs": [],
   "source": [
    "class Type(db.Model):\n",
    "\n",
    "    __tablename__ = \"film_types\"\n",
    "\n",
    "    type_id = db.Column('id', db.Integer, primary_key=True)\n",
    "    name = db.Column('film_type', db.Text)"
   ]
  },
  {
   "cell_type": "code",
   "execution_count": null,
   "metadata": {},
   "outputs": [],
   "source": [
    "**Как читать из базы (простые вещи)?**\n"
   ]
  }
 ],
 "metadata": {
  "kernelspec": {
   "display_name": "Python 3",
   "language": "python",
   "name": "python3"
  },
  "language_info": {
   "codemirror_mode": {
    "name": "ipython",
    "version": 3
   },
   "file_extension": ".py",
   "mimetype": "text/x-python",
   "name": "python",
   "nbconvert_exporter": "python",
   "pygments_lexer": "ipython3",
   "version": "3.8.5"
  }
 },
 "nbformat": 4,
 "nbformat_minor": 4
}
