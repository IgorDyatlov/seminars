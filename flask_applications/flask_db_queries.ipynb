{
 "cells": [
  {
   "cell_type": "markdown",
   "metadata": {},
   "source": [
    "# Flask (продолжение)"
   ]
  },
  {
   "cell_type": "markdown",
   "metadata": {},
   "source": [
    "## Шаблоны страниц\n",
    "\n",
    "Чтобы сайт проще было конструировать, применяются шаблоны. Мы уже смотрели на Jinja templates и как можно подставлять значения переменных в страницы.\n",
    "\n",
    "Можно соединять разные блоки в странице, чтобы не копировать части html-кода, который повторяется на всех или многих страницах. Например, в ВК есть стандартная панель сбоку, которая не меняется от страницы к странице и меняется только центральная полоса. Или на сайтах бывает боковое меню, верхнее меню, новостная лента, которые постоянны в шаблоне, а меняется только часть страницы.\n",
    "\n",
    "Для этого создается базовый шаблон страницы (base.html), который потом просто дополняется информацией, которая отличается на страницах. Мы можем на ней загрузить наши стили, скрипты и прочие зависимости и не думать про это позже. \n",
    "\n",
    "Поместим сюда меню, так как оно не меняется, стили, добавим поля основной части страницы.\n",
    "\n",
    "Мы также указываем блоки, куда потом вставим наши отличающиеся кусочки.\n",
    "\n",
    "Для этого пропишем ```{% block title %} {% endblock %}``` и ```{% block content %} {% endblock %}```\n",
    "\n",
    "title и content - это названия наших блоков, их содержимое пока пустое, мы его заменим."
   ]
  },
  {
   "cell_type": "markdown",
   "metadata": {},
   "source": [
    "```html\n",
    "<!DOCTYPE html>\n",
    "<html lang=\"en\">\n",
    "    \n",
    "<head>\n",
    "    <meta charset=\"UTF-8\">\n",
    "    <title>{% block title %} {% endblock %}</title>\n",
    "         <!-- Required meta tags -->\n",
    "    <meta charset=\"utf-8\">\n",
    "    <meta name=\"viewport\" content=\"width=device-width, initial-scale=1, shrink-to-fit=no\">\n",
    "\n",
    "    <!-- Bootstrap CSS, JS-->\n",
    "    <link rel=\"stylesheet\" href=\"https://cdn.jsdelivr.net/npm/bootstrap@4.5.3/dist/css/bootstrap.min.css\" integrity=\"sha384-TX8t27EcRE3e/ihU7zmQxVncDAy5uIKz4rEkgIXeMed4M0jlfIDPvg6uqKI2xXr2\" crossorigin=\"anonymous\">\n",
    "    <script src=\"https://code.jquery.com/jquery-3.5.1.slim.min.js\" integrity=\"sha384-DfXdz2htPH0lsSSs5nCTpuj/zy4C+OGpamoFVy38MVBnE+IbbVYUew+OrCXaRkfj\" crossorigin=\"anonymous\"></script>\n",
    "    <script src=\"https://cdn.jsdelivr.net/npm/bootstrap@4.5.3/dist/js/bootstrap.bundle.min.js\" integrity=\"sha384-ho+j7jyWK8fNQe+A12Hb8AhRq26LrZ/JpcUGGOn+Y7RsweNrtN/tE3MoK7ZeZDyx\" crossorigin=\"anonymous\"></script>\n",
    "</head>\n",
    "    \n",
    "<body>\n",
    "    <!-- вот отсюда https://getbootstrap.com/docs/4.5/components/navbar/ -->\n",
    "    <nav class=\"navbar navbar-expand-lg navbar-light bg-light\">\n",
    "      <a class=\"navbar-brand\" href=\"#\">База фильмов</a>\n",
    "      <button class=\"navbar-toggler\" type=\"button\" data-toggle=\"collapse\" data-target=\"#navbarNavAltMarkup\" aria-controls=\"navbarNavAltMarkup\" aria-expanded=\"false\" aria-label=\"Toggle navigation\">\n",
    "        <span class=\"navbar-toggler-icon\"></span>\n",
    "      </button>\n",
    "      <div class=\"collapse navbar-collapse\" id=\"navbarNavAltMarkup\">\n",
    "        <div class=\"navbar-nav\">\n",
    "          <a class=\"nav-link\" href=\"/rating\">Рейтинг фильмов</a>\n",
    "          <a class=\"nav-link\" href=\"/search\">Поиск</a>\n",
    "        </div>\n",
    "      </div>\n",
    "    </nav>\n",
    "\n",
    "    <div style=\"margin: 50px 10%\">\n",
    "        {% block content %} {% endblock %}\n",
    "    </div>\n",
    "\n",
    "\n",
    "</body>\n",
    "</html>\n",
    "```"
   ]
  },
  {
   "cell_type": "markdown",
   "metadata": {},
   "source": [
    "Теперь на главной странице просто подставим информацию.\n",
    "\n",
    "Указываем, что мы этим кодом раширяем base.html. Вписываем блоки"
   ]
  },
  {
   "cell_type": "markdown",
   "metadata": {},
   "source": [
    "```html\n",
    "{% extends 'base.html' %}\n",
    "\n",
    "{% block title %} База фильмов {% endblock %}\n",
    "\n",
    "{% block content %}\n",
    "    <h1>Текст главной страницы</h1>\n",
    "{% endblock %}\n",
    "```"
   ]
  },
  {
   "cell_type": "markdown",
   "metadata": {},
   "source": [
    "## Запросы к базе и использование объектов\n",
    "\n",
    "Можно импортировать наши модели (классы) и использовать их для запросов к базе. \n",
    "\n",
    "### Запрос по ключу\n",
    "\n",
    "Самый простой пример - это запрос одного объекта по айди. Сделаем страницу для человека, url будет выгялдеть как ```http://127.0.0.1:5000/person/186505```. Мы получаем айди человека и просто в базе получаем информацию о человеке с таким ключом.\n",
    "\n",
    "Используем метод get для получения по ключу. Обратно нам выдастся объект типа Person, мы можем использовать атрибуты, которые мы прописали в модели. Передаем этот объект на страницу и вписываем в шаблон переменные."
   ]
  },
  {
   "cell_type": "code",
   "execution_count": null,
   "metadata": {},
   "outputs": [],
   "source": [
    "@app.route(\"/person/<person_id>\")\n",
    "def person_page(person_id):\n",
    "    person = Person.query.get(person_id)\n",
    "    return render_template(\"person.html\", person=person)"
   ]
  },
  {
   "cell_type": "markdown",
   "metadata": {},
   "source": [
    "```html\n",
    "{% extends 'base.html' %}\n",
    "\n",
    "{% block title %} {{ person.name }}{% endblock %}\n",
    "\n",
    "{% block content %}\n",
    "    <table class=\"table\">\n",
    "        <tr>\n",
    "            <td>Имя</td>\n",
    "            <td>{{ person.name }}</td>\n",
    "        </tr>\n",
    "        <tr>\n",
    "            <td>Год рождения</td>\n",
    "            <td>{{ person.born }}</td>\n",
    "        </tr>\n",
    "        {% if person.died %}\n",
    "        <tr>\n",
    "            <td>Год смерти</td>\n",
    "            <td>{{ person.died }}</td>\n",
    "        </tr>\n",
    "        {% endif %}\n",
    "        <tr>\n",
    "            <td>Фильмы</td>\n",
    "            <td>\n",
    "                {% for film in person.films %}\n",
    "                    {{ film.title }} <br>\n",
    "                {% endfor %}\n",
    "            </td>\n",
    "        </tr>\n",
    "    </table>\n",
    "{% endblock %}\n",
    "\n",
    "```"
   ]
  },
  {
   "cell_type": "markdown",
   "metadata": {},
   "source": [
    "### Топ фильмов\n",
    "\n",
    "В запросах от класса мы не можем нормально искать по атрибутам, которые привязаны (например, список актеров к фильму), но мы можем сделать join.\n",
    "\n",
    "Мы делаем запрос через db.session.query, в нашем случае это будет что-то вроде курсора. Мы запрашиваем таблицу Film, соединяем ее с Rating.\n",
    "\n",
    "Теперь фильтруем. Добавляем фильтр, что число оценок больше 100 тысяч, сортируем по рейтингу по убыванию.\n",
    "\n",
    "Берем топ-250. Получаем ответ с помощью all (как fetchall).\n",
    "\n",
    "Мы получили список объектов типа Film, которые отсортированы и отфильтрованы как мы просили. Это удобнее, чем просто кортежи, где нам надо помнить, что на какой позиции лежит, мы просто тут можем обращаться по именам атрибутов."
   ]
  },
  {
   "cell_type": "code",
   "execution_count": null,
   "metadata": {},
   "outputs": [],
   "source": [
    "@app.route(\"/rating\")\n",
    "def rating():\n",
    "    rating = db.session.query(Film)\\\n",
    "        .join(Rating)\\\n",
    "        .filter(Rating.votes > 100000)\\\n",
    "        .order_by(-Rating.value)\\\n",
    "        .limit(250).all()\n",
    "    return render_template(\"rating.html\", rating=rating)"
   ]
  },
  {
   "cell_type": "markdown",
   "metadata": {},
   "source": [
    "В шаблоне страницы мы можем идти по объектам (как в обычном списке в питоне), но мы хотим помнить номер порядковый, поэтому попробуем идти по индексам, для это сделаем range от 0 до длины списка)."
   ]
  },
  {
   "cell_type": "markdown",
   "metadata": {},
   "source": [
    "```html\n",
    "{% extends 'base.html' %}\n",
    "\n",
    "{% block title %} Рейтинг фильмов {% endblock %}\n",
    "\n",
    "{% block content %}\n",
    "    <table class=\"table\">\n",
    "        {% for i in range(0, rating|length) %}\n",
    "            <tr>\n",
    "                <td scope=\"row\">{{ i + 1 }}</td>\n",
    "                <td>{{ rating[i].rating.value }}</td>\n",
    "                <td>{{ rating[i].premiered }}{% if rating[i].ended %}-{{ rating[i].ended }}{% endif %}</td>\n",
    "                <td><a href=\"/film/{{ rating[i].film_id }}\" target=\"_blank\">{{ rating[i].title }}</a></td>\n",
    "            </tr>\n",
    "        {% endfor %}\n",
    "    </table>\n",
    "{% endblock %}\n",
    "```"
   ]
  },
  {
   "cell_type": "markdown",
   "metadata": {},
   "source": [
    "## Обработка форм\n",
    "\n",
    "\n",
    "см. проект и [пост вот тут](https://code.luasoftware.com/tutorials/flask/flask-get-request-parameters-get-post-and-json/)"
   ]
  },
  {
   "cell_type": "markdown",
   "metadata": {},
   "source": [
    "## Пример работы с анкетой\n",
    "\n",
    "\n",
    "[пример](https://github.com/hse-ling-python/seminars/blob/master/flask_applications/untitled/app.py)\n",
    "\n",
    "для сохранения данных можно воспользоваться классами таблиц баз данных"
   ]
  },
  {
   "cell_type": "code",
   "execution_count": null,
   "metadata": {},
   "outputs": [],
   "source": [
    "@app.route('/process', methods=['get'])\n",
    "def answer_process():\n",
    "    # если нет ответов, то отсылаем решать анкету\n",
    "    if not request.args:\n",
    "        return redirect(url_for('question_page'))\n",
    "    \n",
    "    # достаем параметры\n",
    "    gender = request.args.get('gender')\n",
    "    education = request.args.get('education')\n",
    "    age = request.args.get('age')\n",
    "    \n",
    "    # создаем профиль пользователя\n",
    "    user = User(\n",
    "        age=age,\n",
    "        gender=gender,\n",
    "        education=education\n",
    "    )\n",
    "    # добавляем в базу\n",
    "    db.session.add(user)\n",
    "    # сохраняемся\n",
    "    db.session.commit()\n",
    "    # получаем юзера с айди (автоинкремент)\n",
    "    db.session.refresh(user)\n",
    "    \n",
    "    # получаем два ответа\n",
    "    q1 = request.args.get('q1')\n",
    "    q2 = request.args.get('q2')\n",
    "    \n",
    "    # привязываем к пользователю (см. модели в проекте)\n",
    "    answer = Answers(id=user.id, q1=q1, q2=q2)\n",
    "    # добавляем ответ в базу\n",
    "    db.session.add(answer)\n",
    "    # сохраняемся\n",
    "    db.session.commit()\n",
    "    \n",
    "    return 'Ok'"
   ]
  }
 ],
 "metadata": {
  "kernelspec": {
   "display_name": "Python 3",
   "language": "python",
   "name": "python3"
  },
  "language_info": {
   "codemirror_mode": {
    "name": "ipython",
    "version": 3
   },
   "file_extension": ".py",
   "mimetype": "text/x-python",
   "name": "python",
   "nbconvert_exporter": "python",
   "pygments_lexer": "ipython3",
   "version": "3.8.5"
  }
 },
 "nbformat": 4,
 "nbformat_minor": 4
}
