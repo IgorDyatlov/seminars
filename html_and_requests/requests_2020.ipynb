{
 "cells": [
  {
   "cell_type": "markdown",
   "metadata": {},
   "source": [
    "# Python и интернет. Модуль requests\n",
    "\n",
    "**План**:\n",
    "\n",
    "1. Запросы\n",
    "2. Requests\n",
    "3. Регулярные выражения\n",
    "4. bs4 и почему так лучше\n",
    "5. Задание на семинар"
   ]
  },
  {
   "cell_type": "markdown",
   "metadata": {},
   "source": [
    "## Как выкачать интернет\n",
    "Современный Интернет предоставляет лингвистам большое количество языковых данных: электронные газеты и журналы, блоги, форумы, социальные сети и т.д. Например, можно найти в сети много-много текстов и собрать корпус, или найти все газетные статьи и блог-посты про какую-нибудь корпорацию и проанализировать тональность сообщений. Сейчас мы научимся заниматься выкачиванием страниц из интернета с помощью Python.\n",
    "\n",
    "Для скачивания HTML-страниц в питоне есть несколько библиотек **urllib** и **requests**"
   ]
  },
  {
   "cell_type": "markdown",
   "metadata": {},
   "source": [
    "## Requests\n",
    "\n",
    "Можно почитать еще [тут](https://realpython.com/python-requests/)\n",
    "\n",
    "\n",
    "Допустим, мы хотим скачать главную страницу Хабрахабра.\n",
    "\n",
    "На самом деле, когда мы хотим открыть какую-то страницу в интернете, наш браузер отправляет на сервер **запрос** (\"Привет, сервер! я хочу код страницы по вот такому адресу!\"), а сервер затем отправляет ответ (\"Привет! Вот код страницы: ...\").\n",
    "Чтобы получить страницу через питон, нужно сформировать **запрос** на сервер так же, как это делает браузер:"
   ]
  },
  {
   "cell_type": "code",
   "execution_count": 16,
   "metadata": {},
   "outputs": [],
   "source": [
    "import requests"
   ]
  },
  {
   "cell_type": "code",
   "execution_count": 2,
   "metadata": {},
   "outputs": [],
   "source": [
    "response = requests.get(\"https://habr.com/ru/\")"
   ]
  },
  {
   "cell_type": "markdown",
   "metadata": {},
   "source": [
    "В response теперь лежит отет сервера. Это не прост html-код страницы, а еще дополнительная информация. Если мы просто выведем этот response, нам покажется только код (200 - все ок)."
   ]
  },
  {
   "cell_type": "code",
   "execution_count": 3,
   "metadata": {},
   "outputs": [
    {
     "data": {
      "text/plain": [
       "<Response [200]>"
      ]
     },
     "execution_count": 3,
     "metadata": {},
     "output_type": "execute_result"
    }
   ],
   "source": [
    "response"
   ]
  },
  {
   "cell_type": "code",
   "execution_count": 5,
   "metadata": {},
   "outputs": [
    {
     "data": {
      "text/plain": [
       "200"
      ]
     },
     "execution_count": 5,
     "metadata": {},
     "output_type": "execute_result"
    }
   ],
   "source": [
    "response.status_code"
   ]
  },
  {
   "cell_type": "markdown",
   "metadata": {},
   "source": [
    "А вот в атрибуте text уже лежит html-код"
   ]
  },
  {
   "cell_type": "code",
   "execution_count": 10,
   "metadata": {},
   "outputs": [
    {
     "name": "stdout",
     "output_type": "stream",
     "text": [
      "<!DOCTYPE html>\n",
      "<html lang=\"ru\" class=\"no-js\">\n",
      "  <head>\n",
      "    <meta http-equiv=\"content-type\" content=\"text/html; charset=utf-8\" />\n",
      "<meta content='width=1024' name='viewport'>\n",
      "<title>Лучшие публикации за сутки / \n"
     ]
    }
   ],
   "source": [
    "print(response.text[:210])"
   ]
  },
  {
   "cell_type": "markdown",
   "metadata": {},
   "source": [
    "Иногда сайт блокирует запросы, если их посылает не настоящий браузер с пользователем, а какой-то бот (например, так делает Гугл или Википедия). Иногда сайты присылают разные версии страниц, разным браузерам.  \n",
    "По этим причинам полезно бывает писать скрипт, который умеет притворяться то одним, то другим браузером.\n",
    "Когда мы пытаемся получить страницу в питоне, наш код по умолчанию честно сообщает серверу, что он является программой на питоне. Он говорит что-то вроде \"Привет, я Python-urllib/3.5\". \n",
    "Но можно, например, представиться Мозиллой:"
   ]
  },
  {
   "cell_type": "code",
   "execution_count": 13,
   "metadata": {},
   "outputs": [],
   "source": [
    "url = 'https://habr.com/ru/'  # адрес страницы, которую мы хотим скачать\n",
    "user_agent = 'Mozilla/5.0 (Windows NT 6.1; Win64; x64)'  # хотим притворяться браузером\n",
    "\n",
    "response = requests.get(\"https://habr.com/ru/\", headers={'User-Agent':user_agent})"
   ]
  },
  {
   "cell_type": "markdown",
   "metadata": {},
   "source": [
    "Или использовать специальную библиотеку"
   ]
  },
  {
   "cell_type": "code",
   "execution_count": null,
   "metadata": {},
   "outputs": [],
   "source": [
    "from fake_useragent import UserAgent"
   ]
  },
  {
   "cell_type": "code",
   "execution_count": 19,
   "metadata": {},
   "outputs": [
    {
     "data": {
      "text/plain": [
       "'Mozilla/5.0 (X11; Linux x86_64) AppleWebKit/537.36 (KHTML, like Gecko) Chrome/33.0.1750.517 Safari/537.36'"
      ]
     },
     "execution_count": 19,
     "metadata": {},
     "output_type": "execute_result"
    }
   ],
   "source": [
    "user_agent = UserAgent().chrome\n",
    "user_agent"
   ]
  },
  {
   "cell_type": "code",
   "execution_count": 20,
   "metadata": {},
   "outputs": [],
   "source": [
    "response = requests.get(\"https://habr.com/ru/\", headers={'User-Agent':user_agent})"
   ]
  },
  {
   "cell_type": "code",
   "execution_count": 37,
   "metadata": {},
   "outputs": [
    {
     "name": "stdout",
     "output_type": "stream",
     "text": [
      "<!DOCTYPE html>\n",
      "<html lang=\"ru\" class=\"no-js\">\n",
      "  <head>\n",
      "    <meta http-equiv=\"content-type\" content=\"text/html; charset=utf-8\" />\n",
      "<meta content='width=1024' name='viewport'>\n",
      "<title>Лучшие публикации за сутки / Хабр</title>\n",
      "\n",
      "  <meta name=\"description\" content=\"Лучшие публикации за последние 24 часа\" \n"
     ]
    }
   ],
   "source": [
    "print(response.text[:300])"
   ]
  },
  {
   "cell_type": "markdown",
   "metadata": {},
   "source": [
    "Ура, всё на месте!\n",
    "\n",
    "Но что всё это значит? Что такое html и как вообще из него доставать какую-то информацию?\n",
    "\n",
    "Ответ: по **тегам**! Например, в куске html сверху есть теги `<title> </title>` (теги всегда обрамляют с двух сторон то, что находится под этим тегом). В `<title>` в данном случае лежит заголовок этой интернет-страницы.\n",
    "\n",
    "Существует несколько вариантов, как достать что-то из определенного тега, например, достать заголовок:\n",
    "\n",
    "1. регулярные выражения\n",
    "2. специальные библиотеки питона, например, BeautifulSoup (bs4) или lxml."
   ]
  },
  {
   "cell_type": "markdown",
   "metadata": {},
   "source": [
    "## Вариант 1: регулярные выражения\n",
    "\n",
    "Это на самом деле плохой вариант и сейчас стараются так не делать, но иногда бывает нужно и так проще."
   ]
  },
  {
   "cell_type": "markdown",
   "metadata": {},
   "source": [
    "Предположим, что мы хотим выкачивать заголовки статей с главной страницы Хабрахабра. Код страницы у нас уже есть, но как из него что-то вытащить. Для начала нужно посмотреть в исходник (view-source:https://habr.com/ru/) и заметить, что заголовки хранятся в тэге **h2** с классом **post__title**. Заголовок выглядит примерно так:\n",
    "\n",
    "<h2 class=\"post__title\">\n",
    "    <a href=\"https://habr.com/ru/company/recognitor/blog/474674/\" class=\"post__title_link\">Машинное зрение и медицина</a>\n",
    "  </h2>\n",
    "  \n",
    "Видите, маркдаун понимает html код\n",
    "\n",
    "А вот и сам html код (это запускать нельзя и не получится, потому что это код \"языка\" html): "
   ]
  },
  {
   "cell_type": "raw",
   "metadata": {},
   "source": [
    "<h2 class=\"post__title\">\n",
    "    <a href=\"https://habr.com/ru/company/recognitor/blog/474674/\" class=\"post__title_link\">Машинное зрение и медицина</a>\n",
    "</h2>"
   ]
  },
  {
   "cell_type": "code",
   "execution_count": 22,
   "metadata": {},
   "outputs": [],
   "source": [
    "import re"
   ]
  },
  {
   "cell_type": "markdown",
   "metadata": {},
   "source": [
    "Чтобы вытащить все такие заголовки постов, воспользуемся регулярным выражением."
   ]
  },
  {
   "cell_type": "code",
   "execution_count": 24,
   "metadata": {},
   "outputs": [],
   "source": [
    "html_content = response.text"
   ]
  },
  {
   "cell_type": "code",
   "execution_count": 25,
   "metadata": {},
   "outputs": [],
   "source": [
    "regex_post_title = re.compile('<h2 class=\"post__title\">(.*?)</h2>', flags= re.DOTALL)\n",
    "titles = regex_post_title.findall(html_content)"
   ]
  },
  {
   "cell_type": "code",
   "execution_count": 26,
   "metadata": {},
   "outputs": [
    {
     "name": "stdout",
     "output_type": "stream",
     "text": [
      "20\n"
     ]
    }
   ],
   "source": [
    "print(len(titles))"
   ]
  },
  {
   "cell_type": "code",
   "execution_count": 27,
   "metadata": {},
   "outputs": [
    {
     "name": "stdout",
     "output_type": "stream",
     "text": [
      "['\\n    <a href=\"https://habr.com/ru/post/526034/\" class=\"post__title_link\">Кейс: как мы на яхте бортовой компьютер заменили</a>\\n  ', '\\n    <a href=\"https://habr.com/ru/post/526000/\" class=\"post__title_link\">Точные и быстрые вычисления для чисел с плавающей точкой на примере функции синуса. Введение и часть 1</a>\\n  ', '\\n    <a href=\"https://habr.com/ru/post/526024/\" class=\"post__title_link\">Функциональное программирование на TypeScript: полиморфизм родов высших порядков</a>\\n  ']\n"
     ]
    }
   ],
   "source": [
    "print(titles[:3])"
   ]
  },
  {
   "cell_type": "code",
   "execution_count": 28,
   "metadata": {},
   "outputs": [
    {
     "name": "stdout",
     "output_type": "stream",
     "text": [
      "Кейс: как мы на яхте бортовой компьютер заменили\n",
      "Точные и быстрые вычисления для чисел с плавающей точкой на примере функции синуса. Введение и часть 1\n",
      "Функциональное программирование на TypeScript: полиморфизм родов высших порядков\n",
      "Делаем из Power Mac G4 универсальный и дешевый ретро-компьютер\n",
      "Чем биоинформатика отличается от вычислительной биологии — краткое введение\n",
      "Мама, я сделал Хабр\n",
      "Дайджест свежих материалов из мира фронтенда за последнюю неделю №439 (26 — 31 октября 2020)\n",
      "Часть 3. Dракоши. Раса Тупиков или стохастическая модель мультиагентной системы\n",
      "Топ-10 инструментов IoT-разработки в 2020\n",
      "Высокие технологии\n",
      "Как я решил сделать игру, вдохновившись Heroes of Might and Magic, и потерял деньги (часть 3)\n",
      "Играем в Doom в среде VMware ESXi на Raspberry Pi\n",
      "Я станцевал бы для тебя Menuet\n",
      "Решение проблемы обеспечения доступности модального окна для людей с ограниченными возможностями\n",
      "Грядущий кошмар синдрома Кесслера\n",
      "Zabbix под замком: включаем опции безопасности компонентов Zabbix для доступа изнутри и снаружи\n",
      "Где вводят официальные рекомендации для защиты домашнего Wi-Fi — инициативы Сингапура и ЕС\n",
      "Страшилки на Хэллоуин от веб-разработчиков\n",
      "Как мы готовим победителей олимпиад по молодежной робототехнике в Университете ИТМО\n",
      "Смартфон как системный блок, почему нет?\n"
     ]
    }
   ],
   "source": [
    "new_titles = []\n",
    "regex_tag = re.compile('<.*?>', re.DOTALL)\n",
    "regex_space = re.compile('\\s{2,}', re.DOTALL)\n",
    "for t in titles:\n",
    "    clean_t = regex_space.sub(\"\", t)\n",
    "    clean_t = regex_tag.sub(\"\", clean_t)\n",
    "    new_titles.append(clean_t)\n",
    "for t in new_titles:\n",
    "    print(t)"
   ]
  },
  {
   "cell_type": "code",
   "execution_count": 30,
   "metadata": {},
   "outputs": [],
   "source": [
    "import html"
   ]
  },
  {
   "cell_type": "code",
   "execution_count": 31,
   "metadata": {},
   "outputs": [
    {
     "name": "stdout",
     "output_type": "stream",
     "text": [
      "текст1 текст2\n"
     ]
    }
   ],
   "source": [
    "print(html.unescape('текст1&nbsp;текст2'))"
   ]
  },
  {
   "cell_type": "markdown",
   "metadata": {},
   "source": [
    "### Некоторые объяснения про регулярные выражения (Лирическое отступление)\n",
    "\n",
    "* Что такое `re.compile`? <br><br>\n",
    "Грубо говоря, `compile()` позволяет запомнить регулярное выражение и использовать его несколько раз. Суть в том, что перед тем как прогнать регулярку через строку, питон должен ее \"скомпилировать\" - превратить **строку** с регулярным выражением в специальный **объект**.<br>\n",
    "Строчка `re.search(..., ...)` сначала компилирует регулярное выражение, а потом выполняет поиск. Если нужно поискать что-то один раз, то такая строчка очень удобна. А если нужно поискать что-то много раз, то получится что одно и то же выражение мы компилируем много раз. А хочется один раз скомпилировать и потом много раз пользоваться. Поэтому пишут так:"
   ]
  },
  {
   "cell_type": "code",
   "execution_count": 32,
   "metadata": {},
   "outputs": [],
   "source": [
    "text = 'тут текст, внутри которого мы что-то ищем'\n",
    "regex_name = re.compile('тут регулярное выражение') # скомпилировали\n",
    "to_search = regex_name.search(text) # теперь можно искать в тексте\n",
    "to_findall = regex_name.findall(text)  # можно использовать скомпилированное выражение много раз\n",
    "to_sub = regex_name.sub('на.что.заменить', text) # и так тоже можно использовать"
   ]
  },
  {
   "cell_type": "markdown",
   "metadata": {},
   "source": [
    "* Что делает `reg_name.sub(..., ...)`?<br><br>\n",
    "Выражение  `reg_name.sub('на_что_заменить', text)` значит: возьми скомпилированное выражение из переменной `reg_name`, и замени все, что соответствует этому выражению в переменной `text`, на строку `'на_что_заменить'`. Если первый аргумент в этом случае - пустая строка, то все найденные регуляркой куски заменятся на пустую строку, короче говоря, удалятся.<br><br>\n",
    "\n",
    "* Что такое `re.DOTALL`?<br><br>\n",
    "Обычно точка в регулярном выражении означает любой символ КРОМЕ символа новой строки.  Чтобы изменить такое поведение, в компиляцию регулярки можно добавить параметры-флаги вот так: `flags = re.DOTALL`, и тогда точка будет ловить вообще любой символ, включая новую строку. Эти флаги слегка меняют поведение функции, вот и все.<br><br>\n",
    "\n",
    "* Что такое `re.U`?<br><br>\n",
    "Про эту штуку нужно знать, если вы работаете с регулярками на втором питоне. Дело в том, что во втором питоне по умолчанию выражения типа `\\w`, `\\W`, `\\s` и подобные работают только на строках ASCII, и чтобы они работали на юникодных строках нужно поставить флаг re.U. В третьем питоне все строки и так юникодные, поэтому необходимости в таком флаге нет.\n",
    "\n",
    "## Вариант 2: BeautifulSoup\n",
    "\n",
    "Это намного лучше! Код страницы парсится как иерархия тегов (как они есть в html коде, один вложен в другой) и можно искать элементы с помощью разных методов, использовать атрибуты и т.д."
   ]
  },
  {
   "cell_type": "code",
   "execution_count": 33,
   "metadata": {},
   "outputs": [],
   "source": [
    "from bs4 import BeautifulSoup"
   ]
  },
  {
   "cell_type": "markdown",
   "metadata": {},
   "source": [
    "Сначала инициализируем объект BeautifulSoup. Потом применим метод find и в скобочках укажем теги, по которым ищем. У некоторых тегов в html (как и в нашем случае) бывает еще и class и какие-нибудь еще атрибуты. Такие вещи мы задаем словариком.\n",
    "\n",
    "Этот запрос вернёт нам только первый заголовок. То есть первое вхождение такого тега в нашем html файле."
   ]
  },
  {
   "cell_type": "code",
   "execution_count": 35,
   "metadata": {},
   "outputs": [
    {
     "name": "stdout",
     "output_type": "stream",
     "text": [
      "\n",
      "Кейс: как мы на яхте бортовой компьютер заменили\n",
      "\n",
      "<h2 class=\"post__title\">\n",
      " <a class=\"post__title_link\" href=\"https://habr.com/ru/post/526034/\">\n",
      "  Кейс: как мы на яхте бортовой компьютер заменили\n",
      " </a>\n",
      "</h2>\n",
      "\n"
     ]
    }
   ],
   "source": [
    "soup = BeautifulSoup(html_content, 'html.parser')  # инициализируем суп\n",
    "\n",
    "post = soup.find('h2', {'class': 'post__title'})\n",
    "print(post.get_text())\n",
    "print(post.prettify())"
   ]
  },
  {
   "cell_type": "markdown",
   "metadata": {},
   "source": [
    "Но мы хотим получить все заголовки постов! Метод find_all возвращает массив всех элементов с тегом указанным в скобках. По нему можно итерироваться."
   ]
  },
  {
   "cell_type": "code",
   "execution_count": 36,
   "metadata": {},
   "outputs": [
    {
     "name": "stdout",
     "output_type": "stream",
     "text": [
      "\n",
      "Кейс: как мы на яхте бортовой компьютер заменили\n",
      "\n",
      "<h2 class=\"post__title\">\n",
      " <a class=\"post__title_link\" href=\"https://habr.com/ru/post/526034/\">\n",
      "  Кейс: как мы на яхте бортовой компьютер заменили\n",
      " </a>\n",
      "</h2>\n",
      "\n",
      "-- -- -- -- -- -- -- -- -- -- \n",
      "\n",
      "Точные и быстрые вычисления для чисел с плавающей точкой на примере функции синуса. Введение и часть 1\n",
      "\n",
      "<h2 class=\"post__title\">\n",
      " <a class=\"post__title_link\" href=\"https://habr.com/ru/post/526000/\">\n",
      "  Точные и быстрые вычисления для чисел с плавающей точкой на примере функции синуса. Введение и часть 1\n",
      " </a>\n",
      "</h2>\n",
      "\n",
      "-- -- -- -- -- -- -- -- -- -- \n",
      "\n",
      "Функциональное программирование на TypeScript: полиморфизм родов высших порядков\n",
      "\n",
      "<h2 class=\"post__title\">\n",
      " <a class=\"post__title_link\" href=\"https://habr.com/ru/post/526024/\">\n",
      "  Функциональное программирование на TypeScript: полиморфизм родов высших порядков\n",
      " </a>\n",
      "</h2>\n",
      "\n",
      "-- -- -- -- -- -- -- -- -- -- \n"
     ]
    }
   ],
   "source": [
    "for post in soup.find_all('h2', {'class': 'post__title'})[:3]:\n",
    "    print(post.get_text())\n",
    "    print(post.prettify())\n",
    "\n",
    "    print('-- '*10)  # для красоты"
   ]
  },
  {
   "cell_type": "markdown",
   "metadata": {},
   "source": [
    "## Задание на семинар 1\n",
    "\n",
    "А что если мы хотим зайти еще глубже по дереву тегов и, например, для каждого заголовка поста найти никнейм юзера, который написал этот пост, и время написания поста?\n",
    "\n",
    "Для этого надо снова зайти в просмотор кода страницы и увидеть, что там просиходит что-то такое:\n",
    "\n",
    "(Заодно обратите внимание, как пишутся комменты в html)"
   ]
  },
  {
   "cell_type": "code",
   "execution_count": null,
   "metadata": {},
   "outputs": [],
   "source": [
    "<li class=\"content-list__item content-list__item_post shortcuts_item\" id=\"post_526034\">\n",
    "                \n",
    "    <article class=\"post post_preview\" lang=\"ru\">\n",
    "  <header class=\"post__meta\">\n",
    "    <a href=\"https://habr.com/ru/users/Autonomnoe/\" class=\"post__user-info user-info\" title=\"Автор публикации\">\n",
    "        <img src=\"//habrastorage.org/getpro/habr/avatars/35b/44f/fe7/35b44ffe76e9518b5d07c5748372937f.png\" width=\"24\" height=\"24\" class=\"user-info__image-pic user-info__image-pic_small\">\n",
    "      <span class=\"user-info__nickname user-info__nickname_small\">Autonomnoe</span>\n",
    "    </a>\n",
    "\n",
    "    <span class=\"post__time\">вчера в 23:55</span>\n",
    "\n",
    "    \n",
    "  </header>\n",
    "\n",
    "  <h2 class=\"post__title\">\n",
    "    <a href=\"https://habr.com/ru/post/526034/\" class=\"post__title_link\">Кейс: как мы на яхте бортовой компьютер заменили</a>\n",
    "  </h2>\n"
   ]
  },
  {
   "cell_type": "markdown",
   "metadata": {},
   "source": [
    "## Задание на семинар 2\n",
    "\n",
    "Скачать главную страницу Яндекс.Погоды и\n",
    "    \n",
    "- а) распечатать сегодняшнюю температуру и облачность\n",
    "- б) распечатать время восхода и заката\n",
    "- в) погоду на завтра"
   ]
  },
  {
   "cell_type": "markdown",
   "metadata": {},
   "source": [
    "## Хорошая статья про это все\n",
    "\n",
    "[https://sysblok.ru/courses/obkachka-sajtov-svoimi-rukami-razbiraemsja-s-html/](https://sysblok.ru/courses/obkachka-sajtov-svoimi-rukami-razbiraemsja-s-html/)"
   ]
  }
 ],
 "metadata": {
  "kernelspec": {
   "display_name": "Python 3",
   "language": "python",
   "name": "python3"
  },
  "language_info": {
   "codemirror_mode": {
    "name": "ipython",
    "version": 3
   },
   "file_extension": ".py",
   "mimetype": "text/x-python",
   "name": "python",
   "nbconvert_exporter": "python",
   "pygments_lexer": "ipython3",
   "version": "3.8.5"
  }
 },
 "nbformat": 4,
 "nbformat_minor": 4
}
