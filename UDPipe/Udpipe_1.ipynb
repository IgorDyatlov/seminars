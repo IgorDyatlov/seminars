{
  "nbformat": 4,
  "nbformat_minor": 0,
  "metadata": {
    "kernelspec": {
      "display_name": "Python 3",
      "language": "python",
      "name": "python3"
    },
    "language_info": {
      "codemirror_mode": {
        "name": "ipython",
        "version": 3
      },
      "file_extension": ".py",
      "mimetype": "text/x-python",
      "name": "python",
      "nbconvert_exporter": "python",
      "pygments_lexer": "ipython3",
      "version": "3.7.1"
    },
    "colab": {
      "name": "Udpipe_1.ipynb",
      "provenance": [],
      "collapsed_sections": []
    }
  },
  "cells": [
    {
      "cell_type": "markdown",
      "metadata": {
        "id": "a6V44OF8tRFu",
        "colab_type": "text"
      },
      "source": [
        "## Dependency parsing with UDPipe\n",
        "\n",
        "Зависимостный парсинг - одна из немногих задач, где лингвистика и компьютерные науки продуктивно взаимодействуют. Основную теорию тут разрабатывают лингвисты, они же размечают корпусы, а модели построены на самых последних разработках в области машинного обучения.\n",
        "\n",
        "**Что такое парсинг вообще и в какой момент его нужно использовать?**\n",
        "\n",
        "Сначала мы токенизируем текст и лемматизируем (делаем морфологический разбор), а потом мы переходим к **синтаксису** и вот тут-то нам и нужен парсер.\n",
        "\n",
        "Самые популярные парсеры:\n",
        "    \n",
        "**Syntaxnet (DRAGNN)** - от гугла\n",
        "    \n",
        "**UDPipe** - от Карлова Университета в Чехии\n",
        "    \n",
        "SyntaxNet активно развивается, но его достаточно трудоемко ставить. \n",
        "UdPipe работает похуже, но установить его легче.\n",
        "\n",
        "**TurkuNLP** - от университета Турку (это Финляндия). Позиционируется он как парсер для финского, но там есть много других предобученных моделей и можно обучать свои. \n",
        "\n",
        "\n",
        "Если вам нужен английский, то удобнее всего разбирать предложения через **spacy**.\n",
        "\n",
        "Ещё есть **MaltParser**: http://www.maltparser.org/\n",
        "\n",
        "\n",
        "### Universal Dependencies Parser\n",
        "\n",
        "[Great tutorial](https://habr.com/ru/company/sberbank/blog/418701/)\n",
        "\n",
        "При парсинге русского языка используется грамматика зависимостей, а не грамматика составляющих. Так любое предложение можно представить в виде дерева зависимостей.\n",
        "\n",
        "![](https://habrastorage.org/getpro/habr/post_images/4b3/b16/19d/4b3b1619db261a71dfd749c28b4fde31.png)\n",
        "\n",
        "[**Universal Dependencies**](https://universaldependencies.org/) — это проект по унификации разметки синтаксических корпусов (трибанков) в рамках грамматики зависимостей. В русском языке количество типов синтаксических связей ограничено — подлежащее, сказуемое и т.д. В английском то же самое, но набор уже другой. Например, там появляется артикль, который тоже надо как-то маркировать. Если бы мы хотели написать волшебный парсер, который мог бы обрабатывать все языки, то довольно быстро уперлись бы в проблемы сопоставления разных грамматик. Героическим создателям Universal Dependencies удалось договориться между собой и разметить все корпусы, которые имелись в их распоряжении, в едином формате.\n",
        "\n",
        "Для того, чтобы разметить что-то новое, нужно обучить модель на размеченном корпусе. Таких корпусов для русского языка есть несколько (можно посмотреть на сайте Universal Dependencies). Основные и самые большие размеченные корпуса:\n",
        "+ Syntagrus\n",
        "+ Taiga"
      ]
    },
    {
      "cell_type": "markdown",
      "metadata": {
        "id": "M_3XAC7ktRFx",
        "colab_type": "text"
      },
      "source": [
        "### UDPipe 2.0, принцип работы\n",
        "\n",
        "+ Сначала текст разделяется на предложения, а предложения — на слова.\n",
        "+ Затем начинает работу теггер — штука, которая предсказывает морфологические свойства токена: в каком падеже слово стоит, в каком числе. По последним четырем символам каждого слова теггер генерирует гипотезы относительно части речи и морфологических тегов этого слова, а затем при помощи перцептрона отбирает лучший вариант.\n",
        "+ В UDPipe есть еще лемматизатор, который подбирает для слов начальную форму. \n",
        "+ потом происходит синтаксический парсинг\n",
        "\n",
        "В итоге получается какой-то такой разбор по грамматике зависимостей предложения:\n",
        "\n",
        "![](https://habrastorage.org/getpro/habr/post_images/686/c78/066/686c780661b296250d53cba054317a18.png)\n",
        "\n",
        "### Давайте вот тут поиграем вместе и попробуем онлайн-парсинг предложений в UDPipe для русского языка.\n",
        "\n",
        "Перейдем по ссылке: http://lindat.mff.cuni.cz/services/udpipe/run.php\n",
        "\n",
        "+ Сначала надо выбрать корпус syntagrus. \n",
        "+ Потом можно вводить свои предложения и рисовать для них таблицы и деревья.\n",
        "\n",
        "![](koshka.png)"
      ]
    },
    {
      "cell_type": "markdown",
      "metadata": {
        "id": "TfdKAQRVtRFy",
        "colab_type": "text"
      },
      "source": [
        "## Как теперь сделать эту красоту в питоне?"
      ]
    },
    {
      "cell_type": "code",
      "metadata": {
        "id": "9Mys8rC5tRFz",
        "colab_type": "code",
        "colab": {}
      },
      "source": [
        "import warnings\n",
        "import os\n",
        "warnings.filterwarnings('ignore')"
      ],
      "execution_count": 0,
      "outputs": []
    },
    {
      "cell_type": "code",
      "metadata": {
        "id": "EV5dm7hptRF5",
        "colab_type": "code",
        "outputId": "58485659-c8e7-4490-e466-9678c7b7bc4d",
        "colab": {
          "base_uri": "https://localhost:8080/",
          "height": 211
        }
      },
      "source": [
        "! pip install ufal.udpipe"
      ],
      "execution_count": 0,
      "outputs": [
        {
          "output_type": "stream",
          "text": [
            "Collecting ufal.udpipe\n",
            "\u001b[?25l  Downloading https://files.pythonhosted.org/packages/e5/72/2b8b9dc7c80017c790bb3308bbad34b57accfed2ac2f1f4ab252ff4e9cb2/ufal.udpipe-1.2.0.3.tar.gz (304kB)\n",
            "\r\u001b[K     |█                               | 10kB 18.7MB/s eta 0:00:01\r\u001b[K     |██▏                             | 20kB 3.2MB/s eta 0:00:01\r\u001b[K     |███▎                            | 30kB 4.6MB/s eta 0:00:01\r\u001b[K     |████▎                           | 40kB 3.0MB/s eta 0:00:01\r\u001b[K     |█████▍                          | 51kB 3.7MB/s eta 0:00:01\r\u001b[K     |██████▌                         | 61kB 4.4MB/s eta 0:00:01\r\u001b[K     |███████▌                        | 71kB 5.1MB/s eta 0:00:01\r\u001b[K     |████████▋                       | 81kB 5.8MB/s eta 0:00:01\r\u001b[K     |█████████▊                      | 92kB 4.5MB/s eta 0:00:01\r\u001b[K     |██████████▊                     | 102kB 4.9MB/s eta 0:00:01\r\u001b[K     |███████████▉                    | 112kB 4.9MB/s eta 0:00:01\r\u001b[K     |█████████████                   | 122kB 4.9MB/s eta 0:00:01\r\u001b[K     |██████████████                  | 133kB 4.9MB/s eta 0:00:01\r\u001b[K     |███████████████                 | 143kB 4.9MB/s eta 0:00:01\r\u001b[K     |████████████████▏               | 153kB 4.9MB/s eta 0:00:01\r\u001b[K     |█████████████████▎              | 163kB 4.9MB/s eta 0:00:01\r\u001b[K     |██████████████████▎             | 174kB 4.9MB/s eta 0:00:01\r\u001b[K     |███████████████████▍            | 184kB 4.9MB/s eta 0:00:01\r\u001b[K     |████████████████████▌           | 194kB 4.9MB/s eta 0:00:01\r\u001b[K     |█████████████████████▌          | 204kB 4.9MB/s eta 0:00:01\r\u001b[K     |██████████████████████▋         | 215kB 4.9MB/s eta 0:00:01\r\u001b[K     |███████████████████████▊        | 225kB 4.9MB/s eta 0:00:01\r\u001b[K     |████████████████████████▉       | 235kB 4.9MB/s eta 0:00:01\r\u001b[K     |█████████████████████████▉      | 245kB 4.9MB/s eta 0:00:01\r\u001b[K     |███████████████████████████     | 256kB 4.9MB/s eta 0:00:01\r\u001b[K     |████████████████████████████    | 266kB 4.9MB/s eta 0:00:01\r\u001b[K     |█████████████████████████████   | 276kB 4.9MB/s eta 0:00:01\r\u001b[K     |██████████████████████████████▏ | 286kB 4.9MB/s eta 0:00:01\r\u001b[K     |███████████████████████████████▎| 296kB 4.9MB/s eta 0:00:01\r\u001b[K     |████████████████████████████████| 307kB 4.9MB/s \n",
            "\u001b[?25hBuilding wheels for collected packages: ufal.udpipe\n",
            "  Building wheel for ufal.udpipe (setup.py) ... \u001b[?25l\u001b[?25hdone\n",
            "  Created wheel for ufal.udpipe: filename=ufal.udpipe-1.2.0.3-cp36-cp36m-linux_x86_64.whl size=5625822 sha256=b423e0fcc8fe72483d2e2637dc8479ae0ca5fdbd01de7cab8006c4530ef1d05b\n",
            "  Stored in directory: /root/.cache/pip/wheels/0c/9d/db/6d3404c33da5b7adb6c6972853efb6a27649d3ba15f7e9bebb\n",
            "Successfully built ufal.udpipe\n",
            "Installing collected packages: ufal.udpipe\n",
            "Successfully installed ufal.udpipe-1.2.0.3\n"
          ],
          "name": "stdout"
        }
      ]
    },
    {
      "cell_type": "code",
      "metadata": {
        "id": "fXMOfMz5tRGA",
        "colab_type": "code",
        "outputId": "010f3c01-e58e-41a1-b40b-ec5976cdaa6e",
        "colab": {
          "base_uri": "https://localhost:8080/",
          "height": 107
        }
      },
      "source": [
        "! pip install conllu"
      ],
      "execution_count": 0,
      "outputs": [
        {
          "output_type": "stream",
          "text": [
            "Collecting conllu\n",
            "  Downloading https://files.pythonhosted.org/packages/cf/39/869a01c157b135832ce95a60a7ee75062a80e32941e00fc3d3b79331eb50/conllu-2.2-py2.py3-none-any.whl\n",
            "Installing collected packages: conllu\n",
            "Successfully installed conllu-2.2\n"
          ],
          "name": "stdout"
        }
      ]
    },
    {
      "cell_type": "markdown",
      "metadata": {
        "id": "86s2YXm9tRGD",
        "colab_type": "text"
      },
      "source": [
        "model.py - это вспомогательный скрипт. Скачайте его себе с нашего гитхаба."
      ]
    },
    {
      "cell_type": "code",
      "metadata": {
        "id": "Ipfj7UCVtRGE",
        "colab_type": "code",
        "colab": {}
      },
      "source": [
        "import ufal.udpipe\n",
        "from model import Model\n",
        "import conllu"
      ],
      "execution_count": 0,
      "outputs": []
    },
    {
      "cell_type": "code",
      "metadata": {
        "id": "RGwfwxE-tRGH",
        "colab_type": "code",
        "colab": {}
      },
      "source": [
        "from collections import defaultdict"
      ],
      "execution_count": 0,
      "outputs": []
    },
    {
      "cell_type": "markdown",
      "metadata": {
        "id": "8B3qSlnOtRGK",
        "colab_type": "text"
      },
      "source": [
        "Скачать модель можно [отсюда](https://lindat.mff.cuni.cz/repository/xmlui/handle/11234/1-2998). Либо taiga, либо syntagrus."
      ]
    },
    {
      "cell_type": "code",
      "metadata": {
        "id": "U8jblI7HtRGL",
        "colab_type": "code",
        "colab": {}
      },
      "source": [
        "model = Model('russian-taiga-ud-2.4-190531.udpipe')"
      ],
      "execution_count": 0,
      "outputs": []
    },
    {
      "cell_type": "code",
      "metadata": {
        "id": "Q2iY0ysptRGP",
        "colab_type": "code",
        "colab": {}
      },
      "source": [
        "def get_conllu(model, text):\n",
        "    sentences = model.tokenize(text)\n",
        "    for s in sentences:\n",
        "        model.tag(s)\n",
        "        model.parse(s)\n",
        "    conllu_text = model.write(sentences, \"conllu\")\n",
        "    return conllu_text"
      ],
      "execution_count": 0,
      "outputs": []
    },
    {
      "cell_type": "markdown",
      "metadata": {
        "id": "9IgBKWSgtRGR",
        "colab_type": "text"
      },
      "source": [
        "Распарсим какое-нибдуь предложение. Функция get_conllu вернёт табличку с анализом каждого слова"
      ]
    },
    {
      "cell_type": "code",
      "metadata": {
        "id": "XzSN0vzftRGS",
        "colab_type": "code",
        "outputId": "6ad559cc-9632-4300-fd00-210f6d1a8bce",
        "colab": {
          "base_uri": "https://localhost:8080/",
          "height": 419
        }
      },
      "source": [
        "a = get_conllu(model, 'Я был в деревне целый день. И завтра тоже там буду.')\n",
        "print(a)"
      ],
      "execution_count": 32,
      "outputs": [
        {
          "output_type": "stream",
          "text": [
            "# newdoc\n",
            "# newpar\n",
            "# sent_id = 1\n",
            "# text = Я был в деревне целый день.\n",
            "1\tЯ\tя\tPRON\t_\tCase=Nom|Number=Sing|Person=1\t6\tnsubj\t_\t_\n",
            "2\tбыл\tбыть\tAUX\tVERB\tAspect=Imp|Gender=Masc|Mood=Ind|Number=Sing|Tense=Past|VerbForm=Fin|Voice=Act\t6\tcop\t_\t_\n",
            "3\tв\tв\tADP\t_\t_\t4\tcase\t_\t_\n",
            "4\tдеревне\tдеревна\tNOUN\t_\tAnimacy=Inan|Case=Loc|Gender=Masc|Number=Sing\t6\tnmod\t_\t_\n",
            "5\tцелый\tцелый\tADJ\t_\tAnimacy=Inan|Case=Acc|Degree=Pos|Gender=Masc|Number=Sing\t6\tamod\t_\t_\n",
            "6\tдень\tдень\tNOUN\t_\tAnimacy=Inan|Case=Acc|Gender=Masc|Number=Sing\t0\troot\t_\tSpaceAfter=No\n",
            "7\t.\t.\tPUNCT\t_\t_\t6\tpunct\t_\t_\n",
            "\n",
            "# sent_id = 2\n",
            "# text = И завтра тоже там буду.\n",
            "1\tИ\tи\tCCONJ\t_\t_\t4\tcc\t_\t_\n",
            "2\tзавтра\tзавтра\tADV\t_\tDegree=Pos\t4\tadvmod\t_\t_\n",
            "3\tтоже\tтоже\tPART\t_\t_\t4\tadvmod\t_\t_\n",
            "4\tтам\tтам\tADV\t_\tDegree=Pos\t0\troot\t_\t_\n",
            "5\tбуду\tбыть\tAUX\t_\tAspect=Imp|Mood=Ind|Number=Sing|Person=1|Tense=Pres|VerbForm=Fin|Voice=Act\t4\tcop\t_\tSpaceAfter=No\n",
            "6\t.\t.\tPUNCT\t_\t_\t4\tpunct\t_\tSpaceAfter=No\n",
            "\n",
            "\n"
          ],
          "name": "stdout"
        }
      ]
    },
    {
      "cell_type": "code",
      "metadata": {
        "id": "Lhk3h_4ntRGV",
        "colab_type": "code",
        "outputId": "0685f924-b526-417f-dea4-c2ce0941db40",
        "colab": {
          "base_uri": "https://localhost:8080/",
          "height": 52
        }
      },
      "source": [
        "conllu.parse_tree(a)"
      ],
      "execution_count": 33,
      "outputs": [
        {
          "output_type": "execute_result",
          "data": {
            "text/plain": [
              "[TokenTree<token={id=6, form=день}, children=[...]>,\n",
              " TokenTree<token={id=4, form=там}, children=[...]>]"
            ]
          },
          "metadata": {
            "tags": []
          },
          "execution_count": 33
        }
      ]
    },
    {
      "cell_type": "markdown",
      "metadata": {
        "id": "GDbfqJnhtRGX",
        "colab_type": "text"
      },
      "source": [
        "Получается, что это список из объектов, по одному для каждого предложения. Каждое предложение представляет собой дерево."
      ]
    },
    {
      "cell_type": "code",
      "metadata": {
        "id": "6CicHjSHtRGY",
        "colab_type": "code",
        "outputId": "af7ba91a-2521-46d7-ad5f-6dc00803443d",
        "colab": {
          "base_uri": "https://localhost:8080/",
          "height": 35
        }
      },
      "source": [
        "len(conllu.parse_tree(a))"
      ],
      "execution_count": 34,
      "outputs": [
        {
          "output_type": "execute_result",
          "data": {
            "text/plain": [
              "2"
            ]
          },
          "metadata": {
            "tags": []
          },
          "execution_count": 34
        }
      ]
    },
    {
      "cell_type": "code",
      "metadata": {
        "id": "yad-yx0DtRGb",
        "colab_type": "code",
        "colab": {}
      },
      "source": [
        "first_tree = conllu.parse_tree(a)[1]"
      ],
      "execution_count": 0,
      "outputs": []
    },
    {
      "cell_type": "code",
      "metadata": {
        "id": "Ba825ZCEtRGf",
        "colab_type": "code",
        "outputId": "34681595-ec2e-466c-8fdb-ba086de80f68",
        "colab": {
          "base_uri": "https://localhost:8080/",
          "height": 121
        }
      },
      "source": [
        "first_tree.print_tree()  # вот это на винде не работает, запускайте в google colab"
      ],
      "execution_count": 38,
      "outputs": [
        {
          "output_type": "stream",
          "text": [
            "(deprel:root) form:там lemma:там upostag:ADV [4]\n",
            "    (deprel:cc) form:И lemma:и upostag:CCONJ [1]\n",
            "    (deprel:advmod) form:завтра lemma:завтра upostag:ADV [2]\n",
            "    (deprel:advmod) form:тоже lemma:тоже upostag:PART [3]\n",
            "    (deprel:cop) form:буду lemma:быть upostag:AUX [5]\n",
            "    (deprel:punct) form:. lemma:. upostag:PUNCT [6]\n"
          ],
          "name": "stdout"
        }
      ]
    },
    {
      "cell_type": "code",
      "metadata": {
        "id": "LGpxnHgZxnmB",
        "colab_type": "code",
        "colab": {}
      },
      "source": [
        "from nltk.parse import DependencyGraph"
      ],
      "execution_count": 0,
      "outputs": []
    },
    {
      "cell_type": "markdown",
      "metadata": {
        "id": "tezpMBhQ__QI",
        "colab_type": "text"
      },
      "source": [
        "Разобранные предложения хранятся в формате CONLL (слово на каждой строчке, тэги через табы, предложения отделены двойными отступами). Conll - по названию конференции Conference on Computational Natural Language Learning, в рамках который проводились и проводятся соревнования по парсингу. \n",
        "\n",
        "Визуализация это дерева DependencyGraph работает с форматом CONLL, поэтому напишем функцию, которая добавит в наш разбор табы и двойные отступы `get_dep_tree`.\n"
      ]
    },
    {
      "cell_type": "code",
      "metadata": {
        "id": "eBBXlgm-xnp4",
        "colab_type": "code",
        "colab": {}
      },
      "source": [
        "def get_dep_tree(text):\n",
        "    trees = []\n",
        "    for sent in text.split('\\n\\n'):\n",
        "        tree = [line for line in sent.split('\\n') if line and line[0] != '#']\n",
        "        trees.append('\\n'.join(tree))\n",
        "    return trees"
      ],
      "execution_count": 0,
      "outputs": []
    },
    {
      "cell_type": "code",
      "metadata": {
        "id": "UyiP82ESxnuo",
        "colab_type": "code",
        "colab": {
          "base_uri": "https://localhost:8080/",
          "height": 419
        },
        "outputId": "232fbda9-5e2e-47a0-f116-46e272f2bf7f"
      },
      "source": [
        "print(a)"
      ],
      "execution_count": 41,
      "outputs": [
        {
          "output_type": "stream",
          "text": [
            "# newdoc\n",
            "# newpar\n",
            "# sent_id = 1\n",
            "# text = Я был в деревне целый день.\n",
            "1\tЯ\tя\tPRON\t_\tCase=Nom|Number=Sing|Person=1\t6\tnsubj\t_\t_\n",
            "2\tбыл\tбыть\tAUX\tVERB\tAspect=Imp|Gender=Masc|Mood=Ind|Number=Sing|Tense=Past|VerbForm=Fin|Voice=Act\t6\tcop\t_\t_\n",
            "3\tв\tв\tADP\t_\t_\t4\tcase\t_\t_\n",
            "4\tдеревне\tдеревна\tNOUN\t_\tAnimacy=Inan|Case=Loc|Gender=Masc|Number=Sing\t6\tnmod\t_\t_\n",
            "5\tцелый\tцелый\tADJ\t_\tAnimacy=Inan|Case=Acc|Degree=Pos|Gender=Masc|Number=Sing\t6\tamod\t_\t_\n",
            "6\tдень\tдень\tNOUN\t_\tAnimacy=Inan|Case=Acc|Gender=Masc|Number=Sing\t0\troot\t_\tSpaceAfter=No\n",
            "7\t.\t.\tPUNCT\t_\t_\t6\tpunct\t_\t_\n",
            "\n",
            "# sent_id = 2\n",
            "# text = И завтра тоже там буду.\n",
            "1\tИ\tи\tCCONJ\t_\t_\t4\tcc\t_\t_\n",
            "2\tзавтра\tзавтра\tADV\t_\tDegree=Pos\t4\tadvmod\t_\t_\n",
            "3\tтоже\tтоже\tPART\t_\t_\t4\tadvmod\t_\t_\n",
            "4\tтам\tтам\tADV\t_\tDegree=Pos\t0\troot\t_\t_\n",
            "5\tбуду\tбыть\tAUX\t_\tAspect=Imp|Mood=Ind|Number=Sing|Person=1|Tense=Pres|VerbForm=Fin|Voice=Act\t4\tcop\t_\tSpaceAfter=No\n",
            "6\t.\t.\tPUNCT\t_\t_\t4\tpunct\t_\tSpaceAfter=No\n",
            "\n",
            "\n"
          ],
          "name": "stdout"
        }
      ]
    },
    {
      "cell_type": "code",
      "metadata": {
        "id": "Uyn9t-Q0x71D",
        "colab_type": "code",
        "colab": {}
      },
      "source": [
        "b = get_dep_tree(a)"
      ],
      "execution_count": 0,
      "outputs": []
    },
    {
      "cell_type": "code",
      "metadata": {
        "id": "dc8OAoY4xnjX",
        "colab_type": "code",
        "colab": {
          "base_uri": "https://localhost:8080/",
          "height": 89
        },
        "outputId": "2c62e1c2-eeb5-42ca-d425-a22806970017"
      },
      "source": [
        "b  # Вот он этот CONLL формат"
      ],
      "execution_count": 43,
      "outputs": [
        {
          "output_type": "execute_result",
          "data": {
            "text/plain": [
              "['1\\tЯ\\tя\\tPRON\\t_\\tCase=Nom|Number=Sing|Person=1\\t6\\tnsubj\\t_\\t_\\n2\\tбыл\\tбыть\\tAUX\\tVERB\\tAspect=Imp|Gender=Masc|Mood=Ind|Number=Sing|Tense=Past|VerbForm=Fin|Voice=Act\\t6\\tcop\\t_\\t_\\n3\\tв\\tв\\tADP\\t_\\t_\\t4\\tcase\\t_\\t_\\n4\\tдеревне\\tдеревна\\tNOUN\\t_\\tAnimacy=Inan|Case=Loc|Gender=Masc|Number=Sing\\t6\\tnmod\\t_\\t_\\n5\\tцелый\\tцелый\\tADJ\\t_\\tAnimacy=Inan|Case=Acc|Degree=Pos|Gender=Masc|Number=Sing\\t6\\tamod\\t_\\t_\\n6\\tдень\\tдень\\tNOUN\\t_\\tAnimacy=Inan|Case=Acc|Gender=Masc|Number=Sing\\t0\\troot\\t_\\tSpaceAfter=No\\n7\\t.\\t.\\tPUNCT\\t_\\t_\\t6\\tpunct\\t_\\t_',\n",
              " '1\\tИ\\tи\\tCCONJ\\t_\\t_\\t4\\tcc\\t_\\t_\\n2\\tзавтра\\tзавтра\\tADV\\t_\\tDegree=Pos\\t4\\tadvmod\\t_\\t_\\n3\\tтоже\\tтоже\\tPART\\t_\\t_\\t4\\tadvmod\\t_\\t_\\n4\\tтам\\tтам\\tADV\\t_\\tDegree=Pos\\t0\\troot\\t_\\t_\\n5\\tбуду\\tбыть\\tAUX\\t_\\tAspect=Imp|Mood=Ind|Number=Sing|Person=1|Tense=Pres|VerbForm=Fin|Voice=Act\\t4\\tcop\\t_\\tSpaceAfter=No\\n6\\t.\\t.\\tPUNCT\\t_\\t_\\t4\\tpunct\\t_\\tSpaceAfter=No',\n",
              " '']"
            ]
          },
          "metadata": {
            "tags": []
          },
          "execution_count": 43
        }
      ]
    },
    {
      "cell_type": "code",
      "metadata": {
        "id": "PqYYoesgyHrO",
        "colab_type": "code",
        "colab": {}
      },
      "source": [
        "d = DependencyGraph(b[1])"
      ],
      "execution_count": 0,
      "outputs": []
    },
    {
      "cell_type": "code",
      "metadata": {
        "id": "ktEDgmuYyHzr",
        "colab_type": "code",
        "colab": {}
      },
      "source": [
        "edges = []\n",
        "\n",
        "for e in d.nodes:\n",
        "    for dep in d.nodes[e]['deps']:\n",
        "        for t in d.nodes[e]['deps'][dep]:\n",
        "            edges.append((e, t))"
      ],
      "execution_count": 0,
      "outputs": []
    },
    {
      "cell_type": "markdown",
      "metadata": {
        "id": "sMa3cs-lAwMJ",
        "colab_type": "text"
      },
      "source": [
        "Нарисуем. Какая-то фигня получилась. Но это и выше было видно.\n",
        "\n"
      ]
    },
    {
      "cell_type": "code",
      "metadata": {
        "id": "OT_a8A32yPXN",
        "colab_type": "code",
        "colab": {
          "base_uri": "https://localhost:8080/",
          "height": 312
        },
        "outputId": "60bc59a2-005e-4516-bb70-efb02efab215"
      },
      "source": [
        "d"
      ],
      "execution_count": 46,
      "outputs": [
        {
          "output_type": "execute_result",
          "data": {
            "text/plain": [
              "<DependencyGraph with 7 nodes>"
            ],
            "image/svg+xml": "<?xml version=\"1.0\" encoding=\"UTF-8\" standalone=\"no\"?>\n<!DOCTYPE svg PUBLIC \"-//W3C//DTD SVG 1.1//EN\"\n \"http://www.w3.org/Graphics/SVG/1.1/DTD/svg11.dtd\">\n<!-- Generated by graphviz version 2.40.1 (20161225.0304)\n -->\n<!-- Title: G Pages: 1 -->\n<svg width=\"396pt\" height=\"218pt\"\n viewBox=\"0.00 0.00 396.00 218.00\" xmlns=\"http://www.w3.org/2000/svg\" xmlns:xlink=\"http://www.w3.org/1999/xlink\">\n<g id=\"graph0\" class=\"graph\" transform=\"scale(1 1) rotate(0) translate(4 214)\">\n<title>G</title>\n<polygon fill=\"#ffffff\" stroke=\"transparent\" points=\"-4,4 -4,-214 392,-214 392,4 -4,4\"/>\n<!-- 0 -->\n<g id=\"node1\" class=\"node\">\n<title>0</title>\n<text text-anchor=\"middle\" x=\"199\" y=\"-188.3\" font-family=\"Times,serif\" font-size=\"14.00\" fill=\"#000000\">0 (None)</text>\n</g>\n<!-- 4 -->\n<g id=\"node2\" class=\"node\">\n<title>4</title>\n<text text-anchor=\"middle\" x=\"199\" y=\"-101.3\" font-family=\"Times,serif\" font-size=\"14.00\" fill=\"#000000\">4 (там)</text>\n</g>\n<!-- 0&#45;&gt;4 -->\n<g id=\"edge1\" class=\"edge\">\n<title>0&#45;&gt;4</title>\n<path fill=\"none\" stroke=\"#000000\" d=\"M199,-173.9735C199,-162.1918 199,-146.5607 199,-133.1581\"/>\n<polygon fill=\"#000000\" stroke=\"#000000\" points=\"202.5001,-133.0033 199,-123.0034 195.5001,-133.0034 202.5001,-133.0033\"/>\n<text text-anchor=\"middle\" x=\"211\" y=\"-144.8\" font-family=\"Times,serif\" font-size=\"14.00\" fill=\"#000000\">root</text>\n</g>\n<!-- 1 -->\n<g id=\"node3\" class=\"node\">\n<title>1</title>\n<text text-anchor=\"middle\" x=\"27\" y=\"-14.3\" font-family=\"Times,serif\" font-size=\"14.00\" fill=\"#000000\">1 (И)</text>\n</g>\n<!-- 4&#45;&gt;1 -->\n<g id=\"edge2\" class=\"edge\">\n<title>4&#45;&gt;1</title>\n<path fill=\"none\" stroke=\"#000000\" d=\"M169.831,-92.8123C154.2824,-86.1217 134.9225,-77.4798 118,-69 99.5569,-59.7582 79.5102,-48.6438 62.9384,-39.1529\"/>\n<polygon fill=\"#000000\" stroke=\"#000000\" points=\"64.5329,-36.0322 54.1215,-34.0693 61.0364,-42.0964 64.5329,-36.0322\"/>\n<text text-anchor=\"middle\" x=\"124.5\" y=\"-57.8\" font-family=\"Times,serif\" font-size=\"14.00\" fill=\"#000000\">cc</text>\n</g>\n<!-- 2 -->\n<g id=\"node4\" class=\"node\">\n<title>2</title>\n<text text-anchor=\"middle\" x=\"110\" y=\"-14.3\" font-family=\"Times,serif\" font-size=\"14.00\" fill=\"#000000\">2 (завтра)</text>\n</g>\n<!-- 4&#45;&gt;2 -->\n<g id=\"edge3\" class=\"edge\">\n<title>4&#45;&gt;2</title>\n<path fill=\"none\" stroke=\"#000000\" d=\"M169.8634,-87.3806C162.022,-81.9772 153.829,-75.6798 147,-69 139.5711,-61.7334 132.5605,-52.8367 126.6809,-44.5205\"/>\n<polygon fill=\"#000000\" stroke=\"#000000\" points=\"129.5107,-42.4576 120.9929,-36.1569 123.7224,-46.3941 129.5107,-42.4576\"/>\n<text text-anchor=\"middle\" x=\"171\" y=\"-57.8\" font-family=\"Times,serif\" font-size=\"14.00\" fill=\"#000000\">advmod</text>\n</g>\n<!-- 3 -->\n<g id=\"node5\" class=\"node\">\n<title>3</title>\n<text text-anchor=\"middle\" x=\"199\" y=\"-14.3\" font-family=\"Times,serif\" font-size=\"14.00\" fill=\"#000000\">3 (тоже)</text>\n</g>\n<!-- 4&#45;&gt;3 -->\n<g id=\"edge4\" class=\"edge\">\n<title>4&#45;&gt;3</title>\n<path fill=\"none\" stroke=\"#000000\" d=\"M199,-86.9735C199,-75.1918 199,-59.5607 199,-46.1581\"/>\n<polygon fill=\"#000000\" stroke=\"#000000\" points=\"202.5001,-46.0033 199,-36.0034 195.5001,-46.0034 202.5001,-46.0033\"/>\n<text text-anchor=\"middle\" x=\"223\" y=\"-57.8\" font-family=\"Times,serif\" font-size=\"14.00\" fill=\"#000000\">advmod</text>\n</g>\n<!-- 5 -->\n<g id=\"node6\" class=\"node\">\n<title>5</title>\n<text text-anchor=\"middle\" x=\"283\" y=\"-14.3\" font-family=\"Times,serif\" font-size=\"14.00\" fill=\"#000000\">5 (буду)</text>\n</g>\n<!-- 4&#45;&gt;5 -->\n<g id=\"edge5\" class=\"edge\">\n<title>4&#45;&gt;5</title>\n<path fill=\"none\" stroke=\"#000000\" d=\"M228.165,-87.8618C236.0928,-82.4218 244.3237,-75.985 251,-69 257.7168,-61.9726 263.7766,-53.3204 268.7702,-45.1514\"/>\n<polygon fill=\"#000000\" stroke=\"#000000\" points=\"271.9456,-46.6526 273.9335,-36.2459 265.8898,-43.1415 271.9456,-46.6526\"/>\n<text text-anchor=\"middle\" x=\"274\" y=\"-57.8\" font-family=\"Times,serif\" font-size=\"14.00\" fill=\"#000000\">cop</text>\n</g>\n<!-- 6 -->\n<g id=\"node7\" class=\"node\">\n<title>6</title>\n<text text-anchor=\"middle\" x=\"361\" y=\"-14.3\" font-family=\"Times,serif\" font-size=\"14.00\" fill=\"#000000\">6 (.)</text>\n</g>\n<!-- 4&#45;&gt;6 -->\n<g id=\"edge6\" class=\"edge\">\n<title>4&#45;&gt;6</title>\n<path fill=\"none\" stroke=\"#000000\" d=\"M228.158,-95.3175C246.1701,-88.8581 269.4886,-79.6187 289,-69 303.1022,-61.3252 317.726,-51.3859 330.0805,-42.3228\"/>\n<polygon fill=\"#000000\" stroke=\"#000000\" points=\"332.3219,-45.0171 338.2367,-36.227 328.1313,-39.4101 332.3219,-45.0171\"/>\n<text text-anchor=\"middle\" x=\"328.5\" y=\"-57.8\" font-family=\"Times,serif\" font-size=\"14.00\" fill=\"#000000\">punct</text>\n</g>\n</g>\n</svg>\n"
          },
          "metadata": {
            "tags": []
          },
          "execution_count": 46
        }
      ]
    },
    {
      "cell_type": "markdown",
      "metadata": {
        "id": "y4_sfHdVF3YY",
        "colab_type": "text"
      },
      "source": [
        "У графа можно достать все **узлы** с помощью метода triples"
      ]
    },
    {
      "cell_type": "code",
      "metadata": {
        "id": "0ek7oXMuGIth",
        "colab_type": "code",
        "colab": {
          "base_uri": "https://localhost:8080/",
          "height": 173
        },
        "outputId": "4faa789b-e179-4aa6-9b12-62cdb818a6a0"
      },
      "source": [
        "d.root = d.nodes[0]  # чтобы метод сработал нужно установить корневой элемент\n",
        "# при этом, если в разборе ошибка и вы сичтаете, что root - это d.nodes[5],\n",
        "# использовать этот корень в .triples не получится, будет ошибка\n",
        "d.nodes[5]"
      ],
      "execution_count": 50,
      "outputs": [
        {
          "output_type": "execute_result",
          "data": {
            "text/plain": [
              "{'address': 5,\n",
              " 'ctag': 'AUX',\n",
              " 'deps': defaultdict(list, {}),\n",
              " 'feats': 'Aspect=Imp|Mood=Ind|Number=Sing|Person=1|Tense=Pres|VerbForm=Fin|Voice=Act',\n",
              " 'head': 4,\n",
              " 'lemma': 'быть',\n",
              " 'rel': 'cop',\n",
              " 'tag': '_',\n",
              " 'word': 'буду'}"
            ]
          },
          "metadata": {
            "tags": []
          },
          "execution_count": 50
        }
      ]
    },
    {
      "cell_type": "code",
      "metadata": {
        "id": "wzAv8A72F8dx",
        "colab_type": "code",
        "colab": {
          "base_uri": "https://localhost:8080/",
          "height": 121
        },
        "outputId": "01d00ba9-4350-4879-8bfb-947343232579"
      },
      "source": [
        "list(d.triples())"
      ],
      "execution_count": 53,
      "outputs": [
        {
          "output_type": "execute_result",
          "data": {
            "text/plain": [
              "[((None, 'TOP'), 'root', ('там', 'ADV')),\n",
              " (('там', 'ADV'), 'cc', ('И', 'CCONJ')),\n",
              " (('там', 'ADV'), 'advmod', ('завтра', 'ADV')),\n",
              " (('там', 'ADV'), 'advmod', ('тоже', 'PART')),\n",
              " (('там', 'ADV'), 'cop', ('буду', 'AUX')),\n",
              " (('там', 'ADV'), 'punct', ('.', 'PUNCT'))]"
            ]
          },
          "metadata": {
            "tags": []
          },
          "execution_count": 53
        }
      ]
    },
    {
      "cell_type": "markdown",
      "metadata": {
        "id": "OGJEAToTIvK9",
        "colab_type": "text"
      },
      "source": [
        "Запомним, что теперь у нас есть способ доставать все узлы. И попробуем использовать это на какой-нибудь задаче.\n",
        "\n",
        "Попробуем проанализировать тексты с помощью зависимостей. Сами парсить не будет, а возьмем уже готовые разборы из Тайги.\n",
        "\n",
        "Возьмем маленький кусочек (Arzamas) - скачать его можно тут - https://linghub.ru/static/Taiga/Arzamas.zip\n",
        "\n",
        "В нем есть папка с обработанными текстами. Соберем их в один список.\n",
        "\n",
        "Нашим конечным заданием будет достать все модификаторы для какого-нибудь конкретного слова в этом корпусе."
      ]
    },
    {
      "cell_type": "code",
      "metadata": {
        "id": "HHVWFenhIk8Y",
        "colab_type": "code",
        "colab": {
          "base_uri": "https://localhost:8080/",
          "height": 208
        },
        "outputId": "b41fab35-90cf-4860-b9b2-df987ed459dd"
      },
      "source": [
        "! wget https://linghub.ru/static/Taiga/Arzamas.zip"
      ],
      "execution_count": 55,
      "outputs": [
        {
          "output_type": "stream",
          "text": [
            "--2019-12-12 22:06:52--  https://linghub.ru/static/Taiga/Arzamas.zip\n",
            "Resolving linghub.ru (linghub.ru)... 92.242.58.138\n",
            "Connecting to linghub.ru (linghub.ru)|92.242.58.138|:443... connected.\n",
            "HTTP request sent, awaiting response... 200 OK\n",
            "Length: 8110992 (7.7M) [application/zip]\n",
            "Saving to: ‘Arzamas.zip’\n",
            "\n",
            "Arzamas.zip         100%[===================>]   7.73M  1.55MB/s    in 7.8s    \n",
            "\n",
            "2019-12-12 22:07:01 (1018 KB/s) - ‘Arzamas.zip’ saved [8110992/8110992]\n",
            "\n"
          ],
          "name": "stdout"
        }
      ]
    },
    {
      "cell_type": "code",
      "metadata": {
        "id": "Ca41_1Z-KE-h",
        "colab_type": "code",
        "colab": {}
      },
      "source": [
        "!unzip Arzamas.zip"
      ],
      "execution_count": 0,
      "outputs": []
    },
    {
      "cell_type": "code",
      "metadata": {
        "id": "ejfly8a7JpOn",
        "colab_type": "code",
        "colab": {}
      },
      "source": [
        "path = 'Arzamas/texts_tagged/'\n",
        "files = [path+file for file in os.listdir(path)]"
      ],
      "execution_count": 0,
      "outputs": []
    },
    {
      "cell_type": "markdown",
      "metadata": {
        "id": "buUiJEkOKTj0",
        "colab_type": "text"
      },
      "source": [
        "Посмотрим, что вообще лежит в этих файлах:"
      ]
    },
    {
      "cell_type": "code",
      "metadata": {
        "id": "IVse55oQKNjx",
        "colab_type": "code",
        "colab": {}
      },
      "source": [
        "file = open(files[2]).read()"
      ],
      "execution_count": 0,
      "outputs": []
    },
    {
      "cell_type": "code",
      "metadata": {
        "id": "SoULZ-SoKYJP",
        "colab_type": "code",
        "colab": {}
      },
      "source": [
        "tree = [x for x in file.split('\\n\\n')[0].split('\\n')]"
      ],
      "execution_count": 0,
      "outputs": []
    },
    {
      "cell_type": "markdown",
      "metadata": {
        "id": "mwhSJ53aKdNj",
        "colab_type": "text"
      },
      "source": [
        "Тут снова формат CONLL очевидно. Давайте еще раз на него внимательно посмотрим. У нас есть тут какая-то метаинформация черз #, теги через таб, деревья для отдельных предложений."
      ]
    },
    {
      "cell_type": "code",
      "metadata": {
        "id": "YP3QLG0GKgHZ",
        "colab_type": "code",
        "colab": {
          "base_uri": "https://localhost:8080/",
          "height": 416
        },
        "outputId": "82cee34d-edca-478f-b82d-bb2f25c13bfe"
      },
      "source": [
        "tree"
      ],
      "execution_count": 73,
      "outputs": [
        {
          "output_type": "execute_result",
          "data": {
            "text/plain": [
              "['# text = # newpar',\n",
              " '# sent_id = 6367',\n",
              " '# text = Так, как полагают специалисты, звучал аккадский, или ассиро-вавилонский, язык -- один из древнейших семитских языков.',\n",
              " '1\\tТак\\tтак\\tADV\\t_\\tDegree=Pos\\t7\\tparataxis\\t_\\tSpaceAfter=No',\n",
              " '2\\t,\\t,\\tPUNCT\\t_\\t_\\t1\\tpunct\\t_\\t_',\n",
              " '3\\tкак\\tкак\\tSCONJ\\t_\\t_\\t7\\tmark\\t_\\t_',\n",
              " '4\\tполагают\\tполагать\\tVERB\\t_\\tAspect=Imp|Mood=Ind|Number=Plur|Person=3|Tense=Pres|VerbForm=Fin|Voice=Act\\t7\\tparataxis\\t_\\t_',\n",
              " '5\\tспециалисты\\tспециалист\\tNOUN\\t_\\tAnimacy=Anim|Case=Nom|Gender=Masc|Number=Plur\\t4\\tnsubj\\t_\\tSpaceAfter=No',\n",
              " '6\\t,\\t,\\tPUNCT\\t_\\t_\\t5\\tpunct\\t_\\t_',\n",
              " '7\\tзвучал\\tзвучать\\tVERB\\t_\\tAspect=Imp|Gender=Masc|Mood=Ind|Number=Sing|Tense=Past|VerbForm=Fin|Voice=Act\\t0\\troot\\t_\\t_',\n",
              " '8\\tаккадский\\tаккадский\\tADJ\\t_\\tCase=Nom|Degree=Pos|Gender=Masc|Number=Sing\\t13\\tamod\\t_\\tSpaceAfter=No',\n",
              " '9\\t,\\t,\\tPUNCT\\t_\\t_\\t8\\tpunct\\t_\\t_',\n",
              " '10\\tили\\tили\\tCCONJ\\t_\\t_\\t11\\tcc\\t_\\t_',\n",
              " '11\\tассиро-вавилонский\\tассиро-вавилонский\\tNOUN\\t_\\tAnimacy=Anim|Case=Nom|Gender=Masc|Number=Sing\\t8\\tconj\\t_\\tSpaceAfter=No',\n",
              " '12\\t,\\t,\\tPUNCT\\t_\\t_\\t11\\tpunct\\t_\\t_',\n",
              " '13\\tязык\\tязык\\tNOUN\\t_\\tAnimacy=Inan|Case=Acc|Gender=Masc|Number=Sing\\t7\\tobj\\t_\\t_',\n",
              " '14\\t--\\t--\\tPUNCT\\t_\\t_\\t13\\tpunct\\t_\\t_',\n",
              " '15\\tодин\\tодин\\tNUM\\t_\\tCase=Nom|Gender=Masc\\t7\\tnsubj\\t_\\t_',\n",
              " '16\\tиз\\tиз\\tADP\\t_\\t_\\t19\\tcase\\t_\\t_',\n",
              " '17\\tдревнейших\\tдревний\\tADJ\\t_\\tCase=Gen|Degree=Sup|Number=Plur\\t19\\tamod\\t_\\t_',\n",
              " '18\\tсемитских\\tсемитский\\tADJ\\t_\\tCase=Gen|Degree=Pos|Number=Plur\\t19\\tamod\\t_\\t_',\n",
              " '19\\tязыков\\tязык\\tNOUN\\t_\\tAnimacy=Inan|Case=Gen|Gender=Masc|Number=Plur\\t15\\tnmod\\t_\\tSpaceAfter=No',\n",
              " '20\\t.\\t.\\tPUNCT\\t_\\t_\\t19\\tpunct\\t_\\t_']"
            ]
          },
          "metadata": {
            "tags": []
          },
          "execution_count": 73
        }
      ]
    },
    {
      "cell_type": "code",
      "metadata": {
        "id": "pEvPnIzcLR47",
        "colab_type": "code",
        "colab": {
          "base_uri": "https://localhost:8080/",
          "height": 260
        },
        "outputId": "08362982-2867-43e3-daa4-5be069faaed2"
      },
      "source": [
        "tree = [x for x in file.split('\\n\\n')[1].split('\\n')]\n",
        "tree"
      ],
      "execution_count": 74,
      "outputs": [
        {
          "output_type": "execute_result",
          "data": {
            "text/plain": [
              "['# sent_id = 6368',\n",
              " '# text = На нем в Древней Месопотамии разговаривали аккадцы, ассирийцы и вавилоняне.',\n",
              " '1\\tНа\\tна\\tADP\\t_\\t_\\t2\\tcase\\t_\\t_',\n",
              " '2\\tнем\\tон\\tPRON\\t_\\tCase=Loc|Gender=Masc|Number=Sing|Person=3\\t6\\tobl\\t_\\t_',\n",
              " '3\\tв\\tв\\tADP\\t_\\t_\\t5\\tcase\\t_\\t_',\n",
              " '4\\tДревней\\tдревний\\tADJ\\t_\\tCase=Loc|Degree=Pos|Gender=Fem|Number=Sing\\t5\\tamod\\t_\\t_',\n",
              " '5\\tМесопотамии\\tМесопотамия\\tPROPN\\t_\\tAnimacy=Inan|Case=Loc|Gender=Fem|Number=Sing\\t6\\tobl\\t_\\t_',\n",
              " '6\\tразговаривали\\tразговаривать\\tVERB\\t_\\tAspect=Imp|Mood=Ind|Number=Plur|Tense=Past|VerbForm=Fin|Voice=Act\\t0\\troot\\t_\\t_',\n",
              " '7\\tаккадцы\\tаккадец\\tNOUN\\t_\\tAnimacy=Anim|Case=Nom|Gender=Masc|Number=Plur\\t6\\tnsubj\\t_\\tSpaceAfter=No',\n",
              " '8\\t,\\t,\\tPUNCT\\t_\\t_\\t7\\tpunct\\t_\\t_',\n",
              " '9\\tассирийцы\\tассириец\\tNOUN\\t_\\tAnimacy=Anim|Case=Nom|Gender=Masc|Number=Plur\\t7\\tconj\\t_\\t_',\n",
              " '10\\tи\\tи\\tCCONJ\\t_\\t_\\t11\\tcc\\t_\\t_',\n",
              " '11\\tвавилоняне\\tвавилонянин\\tNOUN\\t_\\tAnimacy=Anim|Case=Nom|Gender=Masc|Number=Plur\\t7\\tconj\\t_\\tSpaceAfter=No',\n",
              " '12\\t.\\t.\\tPUNCT\\t_\\t_\\t11\\tpunct\\t_\\t_']"
            ]
          },
          "metadata": {
            "tags": []
          },
          "execution_count": 74
        }
      ]
    },
    {
      "cell_type": "markdown",
      "metadata": {
        "id": "bw3Tw80GLiiG",
        "colab_type": "text"
      },
      "source": [
        "Соберем все деревья (то есть все предложения) из всех файлов в один список. Так мы сможем работать с этими данными как с корпусом текстов."
      ]
    },
    {
      "cell_type": "code",
      "metadata": {
        "id": "mGwgHKTSLuIk",
        "colab_type": "code",
        "colab": {}
      },
      "source": [
        "trees = []\n",
        "\n",
        "for file in files:\n",
        "    parsed_sents = open(file).read().split('\\n\\n')\n",
        "    \n",
        "    for sent in parsed_sents:\n",
        "        # уберем мета информацию\n",
        "        tree = [line for line in sent.split('\\n') if line[0] != '#']\n",
        "        trees.append('\\n'.join(tree))"
      ],
      "execution_count": 0,
      "outputs": []
    },
    {
      "cell_type": "markdown",
      "metadata": {
        "id": "mV2_VPUjL8Or",
        "colab_type": "text"
      },
      "source": [
        "Рандомное дерево из получившившегося списка:"
      ]
    },
    {
      "cell_type": "code",
      "metadata": {
        "id": "TjX0PflPLwA0",
        "colab_type": "code",
        "colab": {
          "base_uri": "https://localhost:8080/",
          "height": 55
        },
        "outputId": "4635b20a-e020-4f34-ddc3-c847ddf71d12"
      },
      "source": [
        "trees[145]"
      ],
      "execution_count": 96,
      "outputs": [
        {
          "output_type": "execute_result",
          "data": {
            "text/plain": [
              "'1\\tГравюры\\tГравюр\\tNOUN\\t_\\tAnimacy=Anim|Case=Nom|Gender=Masc|Number=Plur\\t3\\tnsubj\\t_\\t_\\n2\\tГилрея\\tГилрей\\tPROPN\\t_\\tAnimacy=Inan|Case=Gen|Gender=Masc|Number=Sing\\t1\\tnmod\\t_\\t_\\n3\\tпреодолевают\\tпреодолевавать\\tVERB\\t_\\tAspect=Imp|Mood=Ind|Number=Plur|Person=3|Tense=Pres|VerbForm=Fin|Voice=Act\\t0\\troot\\t_\\t_\\n4\\tзаконы\\tзакон\\tNOUN\\t_\\tAnimacy=Inan|Case=Nom|Gender=Masc|Number=Plur\\t3\\tobj\\t_\\t_\\n5\\tжанра\\tжанр\\tNOUN\\t_\\tAnimacy=Inan|Case=Gen|Gender=Masc|Number=Sing\\t4\\tnmod\\t_\\t_\\n6\\tи\\tи\\tCCONJ\\t_\\t_\\t7\\tcc\\t_\\t_\\n7\\tрамки\\tрамка\\tNOUN\\t_\\tAnimacy=Inan|Case=Acc|Gender=Fem|Number=Plur\\t5\\tconj\\t_\\t_\\n8\\tкомического\\tкомический\\tADJ\\t_\\tCase=Gen|Degree=Pos|Gender=Masc|Number=Sing\\t7\\tnmod\\t_\\tSpaceAfter=No\\n9\\t,\\t,\\tPUNCT\\t_\\t_\\t8\\tpunct\\t_\\t_\\n10\\tвозвышаясь\\tвозвышаться\\tVERB\\t_\\tAspect=Imp|Tense=Pres|VerbForm=Conv|Voice=Mid\\t3\\tadvcl\\t_\\t_\\n11\\tдо\\tдо\\tADP\\t_\\t_\\t14\\tcase\\t_\\t_\\n12\\tобобщающих\\tобобщать\\tVERB\\t_\\tAspect=Imp|Case=Gen|Number=Plur|Tense=Pres|VerbForm=Part|Voice=Act\\t14\\tamod\\t_\\t_\\n13\\tхудожественных\\tхудожественный\\tADJ\\t_\\tCase=Gen|Degree=Pos|Number=Plur\\t14\\tamod\\t_\\t_\\n14\\tобразов\\tобраз\\tNOUN\\t_\\tAnimacy=Inan|Case=Gen|Gender=Masc|Number=Plur\\t10\\tobl\\t_\\tSpaceAfter=No\\n15\\t.\\t.\\tPUNCT\\t_\\t_\\t14\\tpunct\\t_\\t_'"
            ]
          },
          "metadata": {
            "tags": []
          },
          "execution_count": 96
        }
      ]
    },
    {
      "cell_type": "markdown",
      "metadata": {
        "id": "6mF6ooOVMLcg",
        "colab_type": "text"
      },
      "source": [
        "Пора нарисовать красивый граф для какого-нибудь предложения из этого корпуса.\n",
        "\n",
        "Поскольку это данные, на которых можно обучать модели, они хорошо размечены и тут уже в корне дерева у нас нормальный предикат и разбор получается хороший."
      ]
    },
    {
      "cell_type": "code",
      "metadata": {
        "id": "wo8f-UMuMD7V",
        "colab_type": "code",
        "colab": {
          "base_uri": "https://localhost:8080/",
          "height": 776
        },
        "outputId": "cc7f64f8-fb10-4184-f376-4a3b4d1edc5a"
      },
      "source": [
        " d1 = DependencyGraph(trees[145])\n",
        " d1"
      ],
      "execution_count": 95,
      "outputs": [
        {
          "output_type": "execute_result",
          "data": {
            "text/plain": [
              "<DependencyGraph with 16 nodes>"
            ],
            "image/svg+xml": "<?xml version=\"1.0\" encoding=\"UTF-8\" standalone=\"no\"?>\n<!DOCTYPE svg PUBLIC \"-//W3C//DTD SVG 1.1//EN\"\n \"http://www.w3.org/Graphics/SVG/1.1/DTD/svg11.dtd\">\n<!-- Generated by graphviz version 2.40.1 (20161225.0304)\n -->\n<!-- Title: G Pages: 1 -->\n<svg width=\"616pt\" height=\"566pt\"\n viewBox=\"0.00 0.00 616.00 566.00\" xmlns=\"http://www.w3.org/2000/svg\" xmlns:xlink=\"http://www.w3.org/1999/xlink\">\n<g id=\"graph0\" class=\"graph\" transform=\"scale(1 1) rotate(0) translate(4 562)\">\n<title>G</title>\n<polygon fill=\"#ffffff\" stroke=\"transparent\" points=\"-4,4 -4,-562 612,-562 612,4 -4,4\"/>\n<!-- 0 -->\n<g id=\"node1\" class=\"node\">\n<title>0</title>\n<text text-anchor=\"middle\" x=\"150\" y=\"-536.3\" font-family=\"Times,serif\" font-size=\"14.00\" fill=\"#000000\">0 (None)</text>\n</g>\n<!-- 3 -->\n<g id=\"node2\" class=\"node\">\n<title>3</title>\n<text text-anchor=\"middle\" x=\"150\" y=\"-449.3\" font-family=\"Times,serif\" font-size=\"14.00\" fill=\"#000000\">3 (преодолевают)</text>\n</g>\n<!-- 0&#45;&gt;3 -->\n<g id=\"edge1\" class=\"edge\">\n<title>0&#45;&gt;3</title>\n<path fill=\"none\" stroke=\"#000000\" d=\"M150,-521.9735C150,-510.1918 150,-494.5607 150,-481.1581\"/>\n<polygon fill=\"#000000\" stroke=\"#000000\" points=\"153.5001,-481.0033 150,-471.0034 146.5001,-481.0034 153.5001,-481.0033\"/>\n<text text-anchor=\"middle\" x=\"162\" y=\"-492.8\" font-family=\"Times,serif\" font-size=\"14.00\" fill=\"#000000\">root</text>\n</g>\n<!-- 1 -->\n<g id=\"node3\" class=\"node\">\n<title>1</title>\n<text text-anchor=\"middle\" x=\"46\" y=\"-362.3\" font-family=\"Times,serif\" font-size=\"14.00\" fill=\"#000000\">1 (Гравюры)</text>\n</g>\n<!-- 3&#45;&gt;1 -->\n<g id=\"edge3\" class=\"edge\">\n<title>3&#45;&gt;1</title>\n<path fill=\"none\" stroke=\"#000000\" d=\"M128.4511,-434.9735C113.1122,-422.1419 92.3151,-404.7443 75.4459,-390.6326\"/>\n<polygon fill=\"#000000\" stroke=\"#000000\" points=\"77.4371,-387.7352 67.5213,-384.0034 72.9457,-393.1043 77.4371,-387.7352\"/>\n<text text-anchor=\"middle\" x=\"121\" y=\"-405.8\" font-family=\"Times,serif\" font-size=\"14.00\" fill=\"#000000\">nsubj</text>\n</g>\n<!-- 4 -->\n<g id=\"node5\" class=\"node\">\n<title>4</title>\n<text text-anchor=\"middle\" x=\"150\" y=\"-362.3\" font-family=\"Times,serif\" font-size=\"14.00\" fill=\"#000000\">4 (законы)</text>\n</g>\n<!-- 3&#45;&gt;4 -->\n<g id=\"edge4\" class=\"edge\">\n<title>3&#45;&gt;4</title>\n<path fill=\"none\" stroke=\"#000000\" d=\"M150,-434.9735C150,-423.1918 150,-407.5607 150,-394.1581\"/>\n<polygon fill=\"#000000\" stroke=\"#000000\" points=\"153.5001,-394.0033 150,-384.0034 146.5001,-394.0034 153.5001,-394.0033\"/>\n<text text-anchor=\"middle\" x=\"159.5\" y=\"-405.8\" font-family=\"Times,serif\" font-size=\"14.00\" fill=\"#000000\">obj</text>\n</g>\n<!-- 10 -->\n<g id=\"node6\" class=\"node\">\n<title>10</title>\n<text text-anchor=\"middle\" x=\"293\" y=\"-362.3\" font-family=\"Times,serif\" font-size=\"14.00\" fill=\"#000000\">10 (возвышаясь)</text>\n</g>\n<!-- 3&#45;&gt;10 -->\n<g id=\"edge5\" class=\"edge\">\n<title>3&#45;&gt;10</title>\n<path fill=\"none\" stroke=\"#000000\" d=\"M179.6297,-434.9735C201.3918,-421.7336 231.1441,-403.6326 254.7092,-389.2958\"/>\n<polygon fill=\"#000000\" stroke=\"#000000\" points=\"256.6843,-392.1911 263.4083,-384.0034 253.0459,-386.2109 256.6843,-392.1911\"/>\n<text text-anchor=\"middle\" x=\"246.5\" y=\"-405.8\" font-family=\"Times,serif\" font-size=\"14.00\" fill=\"#000000\">advcl</text>\n</g>\n<!-- 2 -->\n<g id=\"node4\" class=\"node\">\n<title>2</title>\n<text text-anchor=\"middle\" x=\"46\" y=\"-275.3\" font-family=\"Times,serif\" font-size=\"14.00\" fill=\"#000000\">2 (Гилрея)</text>\n</g>\n<!-- 1&#45;&gt;2 -->\n<g id=\"edge2\" class=\"edge\">\n<title>1&#45;&gt;2</title>\n<path fill=\"none\" stroke=\"#000000\" d=\"M46,-347.9735C46,-336.1918 46,-320.5607 46,-307.1581\"/>\n<polygon fill=\"#000000\" stroke=\"#000000\" points=\"49.5001,-307.0033 46,-297.0034 42.5001,-307.0034 49.5001,-307.0033\"/>\n<text text-anchor=\"middle\" x=\"63\" y=\"-318.8\" font-family=\"Times,serif\" font-size=\"14.00\" fill=\"#000000\">nmod</text>\n</g>\n<!-- 5 -->\n<g id=\"node7\" class=\"node\">\n<title>5</title>\n<text text-anchor=\"middle\" x=\"145\" y=\"-275.3\" font-family=\"Times,serif\" font-size=\"14.00\" fill=\"#000000\">5 (жанра)</text>\n</g>\n<!-- 4&#45;&gt;5 -->\n<g id=\"edge6\" class=\"edge\">\n<title>4&#45;&gt;5</title>\n<path fill=\"none\" stroke=\"#000000\" d=\"M148.964,-347.9735C148.2869,-336.1918 147.3885,-320.5607 146.6183,-307.1581\"/>\n<polygon fill=\"#000000\" stroke=\"#000000\" points=\"150.1028,-306.786 146.0347,-297.0034 143.1143,-307.1877 150.1028,-306.786\"/>\n<text text-anchor=\"middle\" x=\"165\" y=\"-318.8\" font-family=\"Times,serif\" font-size=\"14.00\" fill=\"#000000\">nmod</text>\n</g>\n<!-- 14 -->\n<g id=\"node12\" class=\"node\">\n<title>14</title>\n<text text-anchor=\"middle\" x=\"308\" y=\"-275.3\" font-family=\"Times,serif\" font-size=\"14.00\" fill=\"#000000\">14 (образов)</text>\n</g>\n<!-- 10&#45;&gt;14 -->\n<g id=\"edge11\" class=\"edge\">\n<title>10&#45;&gt;14</title>\n<path fill=\"none\" stroke=\"#000000\" d=\"M296.108,-347.9735C298.1393,-336.1918 300.8344,-320.5607 303.1452,-307.1581\"/>\n<polygon fill=\"#000000\" stroke=\"#000000\" points=\"306.6459,-307.4527 304.896,-297.0034 299.7477,-306.2633 306.6459,-307.4527\"/>\n<text text-anchor=\"middle\" x=\"311.5\" y=\"-318.8\" font-family=\"Times,serif\" font-size=\"14.00\" fill=\"#000000\">obl</text>\n</g>\n<!-- 7 -->\n<g id=\"node8\" class=\"node\">\n<title>7</title>\n<text text-anchor=\"middle\" x=\"111\" y=\"-188.3\" font-family=\"Times,serif\" font-size=\"14.00\" fill=\"#000000\">7 (рамки)</text>\n</g>\n<!-- 5&#45;&gt;7 -->\n<g id=\"edge7\" class=\"edge\">\n<title>5&#45;&gt;7</title>\n<path fill=\"none\" stroke=\"#000000\" d=\"M137.9552,-260.9735C133.2596,-248.9585 126.9996,-232.9401 121.6942,-219.3646\"/>\n<polygon fill=\"#000000\" stroke=\"#000000\" points=\"124.9357,-218.0434 118.0358,-210.0034 118.4159,-220.5914 124.9357,-218.0434\"/>\n<text text-anchor=\"middle\" x=\"143.5\" y=\"-231.8\" font-family=\"Times,serif\" font-size=\"14.00\" fill=\"#000000\">conj</text>\n</g>\n<!-- 6 -->\n<g id=\"node9\" class=\"node\">\n<title>6</title>\n<text text-anchor=\"middle\" x=\"93\" y=\"-101.3\" font-family=\"Times,serif\" font-size=\"14.00\" fill=\"#000000\">6 (и)</text>\n</g>\n<!-- 7&#45;&gt;6 -->\n<g id=\"edge8\" class=\"edge\">\n<title>7&#45;&gt;6</title>\n<path fill=\"none\" stroke=\"#000000\" d=\"M107.2704,-173.9735C104.8328,-162.1918 101.5988,-146.5607 98.8258,-133.1581\"/>\n<polygon fill=\"#000000\" stroke=\"#000000\" points=\"102.1784,-132.0868 96.7248,-123.0034 95.3236,-133.5051 102.1784,-132.0868\"/>\n<text text-anchor=\"middle\" x=\"110.5\" y=\"-144.8\" font-family=\"Times,serif\" font-size=\"14.00\" fill=\"#000000\">cc</text>\n</g>\n<!-- 8 -->\n<g id=\"node10\" class=\"node\">\n<title>8</title>\n<text text-anchor=\"middle\" x=\"195\" y=\"-101.3\" font-family=\"Times,serif\" font-size=\"14.00\" fill=\"#000000\">8 (комического)</text>\n</g>\n<!-- 7&#45;&gt;8 -->\n<g id=\"edge9\" class=\"edge\">\n<title>7&#45;&gt;8</title>\n<path fill=\"none\" stroke=\"#000000\" d=\"M128.4049,-173.9735C140.5688,-161.3752 156.9823,-144.3755 170.4705,-130.4055\"/>\n<polygon fill=\"#000000\" stroke=\"#000000\" points=\"173.1894,-132.6285 177.6174,-123.0034 168.1536,-127.7663 173.1894,-132.6285\"/>\n<text text-anchor=\"middle\" x=\"176\" y=\"-144.8\" font-family=\"Times,serif\" font-size=\"14.00\" fill=\"#000000\">nmod</text>\n</g>\n<!-- 9 -->\n<g id=\"node11\" class=\"node\">\n<title>9</title>\n<text text-anchor=\"middle\" x=\"195\" y=\"-14.3\" font-family=\"Times,serif\" font-size=\"14.00\" fill=\"#000000\">9 (,)</text>\n</g>\n<!-- 8&#45;&gt;9 -->\n<g id=\"edge10\" class=\"edge\">\n<title>8&#45;&gt;9</title>\n<path fill=\"none\" stroke=\"#000000\" d=\"M195,-86.9735C195,-75.1918 195,-59.5607 195,-46.1581\"/>\n<polygon fill=\"#000000\" stroke=\"#000000\" points=\"198.5001,-46.0033 195,-36.0034 191.5001,-46.0034 198.5001,-46.0033\"/>\n<text text-anchor=\"middle\" x=\"211.5\" y=\"-57.8\" font-family=\"Times,serif\" font-size=\"14.00\" fill=\"#000000\">punct</text>\n</g>\n<!-- 11 -->\n<g id=\"node13\" class=\"node\">\n<title>11</title>\n<text text-anchor=\"middle\" x=\"196\" y=\"-188.3\" font-family=\"Times,serif\" font-size=\"14.00\" fill=\"#000000\">11 (до)</text>\n</g>\n<!-- 14&#45;&gt;11 -->\n<g id=\"edge12\" class=\"edge\">\n<title>14&#45;&gt;11</title>\n<path fill=\"none\" stroke=\"#000000\" d=\"M284.7935,-260.9735C268.1245,-248.0253 245.4701,-230.4276 227.2165,-216.2485\"/>\n<polygon fill=\"#000000\" stroke=\"#000000\" points=\"229.2212,-213.3739 219.1767,-210.0034 224.927,-218.902 229.2212,-213.3739\"/>\n<text text-anchor=\"middle\" x=\"271\" y=\"-231.8\" font-family=\"Times,serif\" font-size=\"14.00\" fill=\"#000000\">case</text>\n</g>\n<!-- 12 -->\n<g id=\"node14\" class=\"node\">\n<title>12</title>\n<text text-anchor=\"middle\" x=\"308\" y=\"-188.3\" font-family=\"Times,serif\" font-size=\"14.00\" fill=\"#000000\">12 (обобщающих)</text>\n</g>\n<!-- 14&#45;&gt;12 -->\n<g id=\"edge13\" class=\"edge\">\n<title>14&#45;&gt;12</title>\n<path fill=\"none\" stroke=\"#000000\" d=\"M308,-260.9735C308,-249.1918 308,-233.5607 308,-220.1581\"/>\n<polygon fill=\"#000000\" stroke=\"#000000\" points=\"311.5001,-220.0033 308,-210.0034 304.5001,-220.0034 311.5001,-220.0033\"/>\n<text text-anchor=\"middle\" x=\"324.5\" y=\"-231.8\" font-family=\"Times,serif\" font-size=\"14.00\" fill=\"#000000\">amod</text>\n</g>\n<!-- 13 -->\n<g id=\"node15\" class=\"node\">\n<title>13</title>\n<text text-anchor=\"middle\" x=\"463\" y=\"-188.3\" font-family=\"Times,serif\" font-size=\"14.00\" fill=\"#000000\">13 (художественных)</text>\n</g>\n<!-- 14&#45;&gt;13 -->\n<g id=\"edge14\" class=\"edge\">\n<title>14&#45;&gt;13</title>\n<path fill=\"none\" stroke=\"#000000\" d=\"M340.1161,-260.9735C363.9123,-247.617 396.5223,-229.3133 422.1696,-214.9177\"/>\n<polygon fill=\"#000000\" stroke=\"#000000\" points=\"423.9179,-217.9501 430.925,-210.0034 420.4916,-211.8459 423.9179,-217.9501\"/>\n<text text-anchor=\"middle\" x=\"411.5\" y=\"-231.8\" font-family=\"Times,serif\" font-size=\"14.00\" fill=\"#000000\">amod</text>\n</g>\n<!-- 15 -->\n<g id=\"node16\" class=\"node\">\n<title>15</title>\n<text text-anchor=\"middle\" x=\"581\" y=\"-188.3\" font-family=\"Times,serif\" font-size=\"14.00\" fill=\"#000000\">15 (.)</text>\n</g>\n<!-- 14&#45;&gt;15 -->\n<g id=\"edge15\" class=\"edge\">\n<title>14&#45;&gt;15</title>\n<path fill=\"none\" stroke=\"#000000\" d=\"M354.7038,-268.0682C401.0319,-256.6365 473.9689,-237.053 544.2638,-209.9704\"/>\n<polygon fill=\"#000000\" stroke=\"#000000\" points=\"545.6735,-213.1773 553.7134,-206.2772 543.1254,-206.6575 545.6735,-213.1773\"/>\n<text text-anchor=\"middle\" x=\"511.5\" y=\"-231.8\" font-family=\"Times,serif\" font-size=\"14.00\" fill=\"#000000\">punct</text>\n</g>\n</g>\n</svg>\n"
          },
          "metadata": {
            "tags": []
          },
          "execution_count": 95
        }
      ]
    },
    {
      "cell_type": "markdown",
      "metadata": {
        "id": "Dwi3WDbdNUpn",
        "colab_type": "text"
      },
      "source": [
        "Вспомним наш прекрасный метод доставания узлов:"
      ]
    },
    {
      "cell_type": "code",
      "metadata": {
        "id": "2oqR8cHtNTUA",
        "colab_type": "code",
        "colab": {
          "base_uri": "https://localhost:8080/",
          "height": 277
        },
        "outputId": "c6bcbf04-d1f0-45ea-b53c-656f5d97beee"
      },
      "source": [
        "d1.root = d1.nodes[0] # чтобы метод сработал нужно установить корневой элемент\n",
        "list(d1.triples())"
      ],
      "execution_count": 98,
      "outputs": [
        {
          "output_type": "execute_result",
          "data": {
            "text/plain": [
              "[((None, 'TOP'), 'root', ('преодолевают', 'VERB')),\n",
              " (('преодолевают', 'VERB'), 'nsubj', ('Гравюры', 'NOUN')),\n",
              " (('Гравюры', 'NOUN'), 'nmod', ('Гилрея', 'PROPN')),\n",
              " (('преодолевают', 'VERB'), 'obj', ('законы', 'NOUN')),\n",
              " (('законы', 'NOUN'), 'nmod', ('жанра', 'NOUN')),\n",
              " (('жанра', 'NOUN'), 'conj', ('рамки', 'NOUN')),\n",
              " (('рамки', 'NOUN'), 'cc', ('и', 'CCONJ')),\n",
              " (('рамки', 'NOUN'), 'nmod', ('комического', 'ADJ')),\n",
              " (('комического', 'ADJ'), 'punct', (',', 'PUNCT')),\n",
              " (('преодолевают', 'VERB'), 'advcl', ('возвышаясь', 'VERB')),\n",
              " (('возвышаясь', 'VERB'), 'obl', ('образов', 'NOUN')),\n",
              " (('образов', 'NOUN'), 'case', ('до', 'ADP')),\n",
              " (('образов', 'NOUN'), 'amod', ('обобщающих', 'VERB')),\n",
              " (('образов', 'NOUN'), 'amod', ('художественных', 'ADJ')),\n",
              " (('образов', 'NOUN'), 'punct', ('.', 'PUNCT'))]"
            ]
          },
          "metadata": {
            "tags": []
          },
          "execution_count": 98
        }
      ]
    },
    {
      "cell_type": "markdown",
      "metadata": {
        "id": "CUQVwacANdTS",
        "colab_type": "text"
      },
      "source": [
        "А теперь поставим задачу:\n",
        "\n",
        "Как достать из корпуса все возможные модификаторы какого-нибудь слова?"
      ]
    },
    {
      "cell_type": "code",
      "metadata": {
        "id": "yFq3yGMXNnRq",
        "colab_type": "code",
        "colab": {}
      },
      "source": [
        "modifiers = Counter()\n",
        "for tree in trees:\n",
        "    d = DependencyGraph(tree)\n",
        "    d.root = d.nodes[0] \n",
        "    triples = list(d.triples())\n",
        "    \n",
        "    for e1, rel, e2 in triples:\n",
        "        if e1[0] == 'писатель' and rel == 'amod':\n",
        "            modifiers[e2[0]] += 1"
      ],
      "execution_count": 0,
      "outputs": []
    },
    {
      "cell_type": "code",
      "metadata": {
        "id": "VIQpBjQsNo-w",
        "colab_type": "code",
        "colab": {
          "base_uri": "https://localhost:8080/",
          "height": 295
        },
        "outputId": "17b62917-eaf9-4cac-b5a0-965aba8bd249"
      },
      "source": [
        "modifiers"
      ],
      "execution_count": 100,
      "outputs": [
        {
          "output_type": "execute_result",
          "data": {
            "text/plain": [
              "Counter({'Британский': 1,\n",
              "         'Замечательный': 1,\n",
              "         'Сам': 1,\n",
              "         'великий': 2,\n",
              "         'грузинский': 2,\n",
              "         'древнегреческий': 1,\n",
              "         'известный': 1,\n",
              "         'изощренный': 1,\n",
              "         'любимый': 1,\n",
              "         'московский': 2,\n",
              "         'наш': 1,\n",
              "         'оказавшийся': 1,\n",
              "         'разоблаченный': 1,\n",
              "         'русский': 1,\n",
              "         'умеющий': 1,\n",
              "         'церковный': 1})"
            ]
          },
          "metadata": {
            "tags": []
          },
          "execution_count": 100
        }
      ]
    },
    {
      "cell_type": "markdown",
      "metadata": {
        "id": "MudeDgCZN8LW",
        "colab_type": "text"
      },
      "source": [
        "Попробуйте сами так поиграть с еще какими-нибудь словами и достать еще какие-нибудь отношения."
      ]
    },
    {
      "cell_type": "code",
      "metadata": {
        "id": "sXuqroBTOJSG",
        "colab_type": "code",
        "colab": {}
      },
      "source": [
        "modifiers = Counter()\n",
        "for tree in trees:\n",
        "    d = DependencyGraph(tree)\n",
        "    d.root = d.nodes[0] \n",
        "    triples = list(d.triples())\n",
        "    \n",
        "    for e1, rel, e2 in triples:\n",
        "        if e1[0] == 'девочка' and rel == 'amod':\n",
        "            modifiers[e2[0]] += 1"
      ],
      "execution_count": 0,
      "outputs": []
    },
    {
      "cell_type": "code",
      "metadata": {
        "id": "9svmFO2gORec",
        "colab_type": "code",
        "colab": {
          "base_uri": "https://localhost:8080/",
          "height": 35
        },
        "outputId": "6c9d209a-88b0-47e5-a014-03349e9315b1"
      },
      "source": [
        "modifiers"
      ],
      "execution_count": 106,
      "outputs": [
        {
          "output_type": "execute_result",
          "data": {
            "text/plain": [
              "Counter({'маленькая': 1, 'наша': 1})"
            ]
          },
          "metadata": {
            "tags": []
          },
          "execution_count": 106
        }
      ]
    },
    {
      "cell_type": "markdown",
      "metadata": {
        "id": "Qm0TgTG0Or6u",
        "colab_type": "text"
      },
      "source": [
        "Какие вообще отношения в Universal Dependencies маркируются для русского языка?\n",
        "\n",
        "https://universaldependencies.org/ru/index.html"
      ]
    },
    {
      "cell_type": "markdown",
      "metadata": {
        "id": "FnQFv7HKR2vF",
        "colab_type": "text"
      },
      "source": [
        "Какие еще вопросы можно решать с помощью UDPipe? \n",
        "\n",
        "+ Можно доставать какую-нибудь составляющую. Например, достать из всех предложений вашего корпуса именные группы.\n",
        "+ Доставать самые короткие пути (пути по графу зависимостей), соединяющие между собой какие-нибудь фразы.\n",
        "+ Можно искать предложения или конструкции, похожие между собой по структуре (вот это топовая тема для CG construction grammar) на мой взгляд.\n",
        "\n",
        "В оставшееся время давайте попробуем накидать решение для первой задачи из этого списка. \n",
        "\n",
        "Пройдемся по всем ответвлениям слова, чтобы собрать всю именную группу. Для этого напишем функцию с рекурсией, которая будет делать примерно следующее: преобазовывать какую-то такую структуру [1, [2, 3], 4, [5, 6]] в плоскую [1, 2, 3, 4, 5, 6]."
      ]
    },
    {
      "cell_type": "code",
      "metadata": {
        "id": "uv0q5ReoTXto",
        "colab_type": "code",
        "colab": {}
      },
      "source": [
        "def get_subtree(nodes, node):\n",
        "    \n",
        "    if not nodes[node]['deps']:\n",
        "        return [node]\n",
        "    \n",
        "    else:\n",
        "        return [node] + [get_subtree(nodes, dep) for rel in nodes[node]['deps'] \n",
        "                         if rel != 'punct'  # пунктуацию доставать не будем\n",
        "                         for dep in nodes[node]['deps'][rel]]"
      ],
      "execution_count": 0,
      "outputs": []
    },
    {
      "cell_type": "markdown",
      "metadata": {
        "id": "BGMy1XImUA48",
        "colab_type": "text"
      },
      "source": [
        "Давайте снова нарисуем предложение (и вспомним его), для которого мы хотим достать поддеревья или на языке лингвистики: найдем существительное, именную группу которого мы хотим достать."
      ]
    },
    {
      "cell_type": "code",
      "metadata": {
        "id": "yks0TlpqTnpL",
        "colab_type": "code",
        "colab": {}
      },
      "source": [
        "import matplotlib\n",
        "import matplotlib.pyplot as plt\n",
        "import networkx as nx\n",
        "%matplotlib inline"
      ],
      "execution_count": 0,
      "outputs": []
    },
    {
      "cell_type": "markdown",
      "metadata": {
        "id": "aCA2FXGtVaQa",
        "colab_type": "text"
      },
      "source": [
        "Ну, например, давайте достанем именную группу или поддерево для существительного *образов*"
      ]
    },
    {
      "cell_type": "code",
      "metadata": {
        "id": "HqCsyMB2Tt9F",
        "colab_type": "code",
        "colab": {
          "base_uri": "https://localhost:8080/",
          "height": 751
        },
        "outputId": "7be51372-f134-4a34-e2ee-914d270f61cf"
      },
      "source": [
        "plt.figure(figsize=(10,10))\n",
        "nx.draw(d1.nx_graph(), labels=d1.nx_labels, node_size=5000)"
      ],
      "execution_count": 110,
      "outputs": [
        {
          "output_type": "display_data",
          "data": {
            "image/png": "[encoded data removed]",
            "text/plain": [
              "<Figure size 720x720 with 1 Axes>"
            ]
          },
          "metadata": {
            "tags": []
          }
        }
      ]
    },
    {
      "cell_type": "markdown",
      "metadata": {
        "id": "4jRv9Lq8Vzvu",
        "colab_type": "text"
      },
      "source": [
        "Это слово лежит здесь 14-ым"
      ]
    },
    {
      "cell_type": "code",
      "metadata": {
        "id": "esTQJkvvVkXv",
        "colab_type": "code",
        "colab": {
          "base_uri": "https://localhost:8080/",
          "height": 277
        },
        "outputId": "64363be6-4222-4a0c-c586-ba43219c30b0"
      },
      "source": [
        "d1.nx_labels"
      ],
      "execution_count": 111,
      "outputs": [
        {
          "output_type": "execute_result",
          "data": {
            "text/plain": [
              "{1: 'Гравюры',\n",
              " 2: 'Гилрея',\n",
              " 3: 'преодолевают',\n",
              " 4: 'законы',\n",
              " 5: 'жанра',\n",
              " 6: 'и',\n",
              " 7: 'рамки',\n",
              " 8: 'комического',\n",
              " 9: ',',\n",
              " 10: 'возвышаясь',\n",
              " 11: 'до',\n",
              " 12: 'обобщающих',\n",
              " 13: 'художественных',\n",
              " 14: 'образов',\n",
              " 15: '.'}"
            ]
          },
          "metadata": {
            "tags": []
          },
          "execution_count": 111
        }
      ]
    },
    {
      "cell_type": "code",
      "metadata": {
        "id": "PgXXirm9VxI_",
        "colab_type": "code",
        "colab": {
          "base_uri": "https://localhost:8080/",
          "height": 35
        },
        "outputId": "734c5e67-74d9-4800-822a-f6bbdadc3dbb"
      },
      "source": [
        "get_subtree(d1.nodes, 14)"
      ],
      "execution_count": 114,
      "outputs": [
        {
          "output_type": "execute_result",
          "data": {
            "text/plain": [
              "[14, [11], [12], [13]]"
            ]
          },
          "metadata": {
            "tags": []
          },
          "execution_count": 114
        }
      ]
    },
    {
      "cell_type": "markdown",
      "metadata": {
        "id": "pFCd_OykWOTM",
        "colab_type": "text"
      },
      "source": [
        "Получается список с вложенными списками. Чтобы представить это все в читаемом формате лучше его раплющить ещё одной рекурсивной функцией"
      ]
    },
    {
      "cell_type": "code",
      "metadata": {
        "id": "tUDqRWQGWPWR",
        "colab_type": "code",
        "colab": {}
      },
      "source": [
        "def flatten(l):\n",
        "    flat = []\n",
        "    for el in l:\n",
        "        if not isinstance(el, list):\n",
        "            flat.append(el)\n",
        "        else:\n",
        "            flat += flatten(el)\n",
        "    return flat"
      ],
      "execution_count": 0,
      "outputs": []
    },
    {
      "cell_type": "code",
      "metadata": {
        "id": "LZT_QvPEWTv0",
        "colab_type": "code",
        "colab": {
          "base_uri": "https://localhost:8080/",
          "height": 35
        },
        "outputId": "7cf35657-22ec-4ca0-b391-ab2319e0ec89"
      },
      "source": [
        "flatten(get_subtree(d1.nodes, 14))"
      ],
      "execution_count": 117,
      "outputs": [
        {
          "output_type": "execute_result",
          "data": {
            "text/plain": [
              "[14, 11, 12, 13]"
            ]
          },
          "metadata": {
            "tags": []
          },
          "execution_count": 117
        }
      ]
    },
    {
      "cell_type": "code",
      "metadata": {
        "id": "2H9-R5KRWb8z",
        "colab_type": "code",
        "colab": {
          "base_uri": "https://localhost:8080/",
          "height": 35
        },
        "outputId": "1274a2ff-e82f-4d80-bda3-33e762791bda"
      },
      "source": [
        "[d1.nodes[i]['word'] for i in flatten(get_subtree(d1.nodes, 14))]"
      ],
      "execution_count": 119,
      "outputs": [
        {
          "output_type": "execute_result",
          "data": {
            "text/plain": [
              "['образов', 'до', 'обобщающих', 'художественных']"
            ]
          },
          "metadata": {
            "tags": []
          },
          "execution_count": 119
        }
      ]
    },
    {
      "cell_type": "markdown",
      "metadata": {
        "id": "W7Py91YHWpDq",
        "colab_type": "text"
      },
      "source": [
        "Ну вот мы что-то напечатали, но поскольку там был словарь, порядок слов поломался надо сортировать и напечатать нормально."
      ]
    },
    {
      "cell_type": "code",
      "metadata": {
        "id": "6vfKHWlWWxtQ",
        "colab_type": "code",
        "colab": {
          "base_uri": "https://localhost:8080/",
          "height": 35
        },
        "outputId": "45a81cd0-662c-4292-baff-ac8bec5838d0"
      },
      "source": [
        "\" \".join([d1.nodes[i]['word'] for i in sorted(flatten(get_subtree(d1.nodes, 14)))])"
      ],
      "execution_count": 121,
      "outputs": [
        {
          "output_type": "execute_result",
          "data": {
            "text/plain": [
              "'до обобщающих художественных образов'"
            ]
          },
          "metadata": {
            "tags": []
          },
          "execution_count": 121
        }
      ]
    },
    {
      "cell_type": "markdown",
      "metadata": {
        "id": "CzGHKaVTXDSJ",
        "colab_type": "text"
      },
      "source": [
        "Ура! А что теперь?\n",
        "\n",
        "## Задание\n",
        "\n",
        "Ну теперь можно достать все именные группы для слов с тегом nsubj. То есть достать все именные группы в именительном падеже"
      ]
    },
    {
      "cell_type": "code",
      "metadata": {
        "id": "Ah8RZ8eGXh2f",
        "colab_type": "code",
        "colab": {}
      },
      "source": [
        "# your code here"
      ],
      "execution_count": 0,
      "outputs": []
    }
  ]
}
